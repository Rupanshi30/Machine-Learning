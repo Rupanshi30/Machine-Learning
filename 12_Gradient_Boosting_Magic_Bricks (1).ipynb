{
 "cells": [
  {
   "cell_type": "markdown",
   "id": "d846e786",
   "metadata": {},
   "source": [
    "#### Importing required Libraries"
   ]
  },
  {
   "cell_type": "code",
   "execution_count": 28,
   "id": "65a16e2e",
   "metadata": {},
   "outputs": [],
   "source": [
    "import numpy as np\n",
    "import pandas as pd\n",
    "from sklearn.ensemble import GradientBoostingRegressor\n",
    "from sklearn.model_selection import train_test_split, GridSearchCV\n",
    "from sklearn.metrics import mean_squared_error as MSE,r2_score as r2\n",
    "from sklearn.preprocessing import StandardScaler\n",
    "from sklearn.linear_model import LinearRegression\n",
    "from sklearn.preprocessing import LabelEncoder\n",
    "\n",
    "import warnings\n",
    "warnings.filterwarnings(\"ignore\")"
   ]
  },
  {
   "cell_type": "code",
   "execution_count": 2,
   "id": "4e86037f",
   "metadata": {},
   "outputs": [],
   "source": [
    "pd.set_option(\"display.max_rows\",500)\n",
    "pd.set_option(\"display.max_columns\",500)"
   ]
  },
  {
   "cell_type": "markdown",
   "id": "78d12628",
   "metadata": {},
   "source": [
    "#### Loading the Data Set"
   ]
  },
  {
   "cell_type": "code",
   "execution_count": 3,
   "id": "84f9a1c7",
   "metadata": {},
   "outputs": [
    {
     "data": {
      "text/html": [
       "<div>\n",
       "<style scoped>\n",
       "    .dataframe tbody tr th:only-of-type {\n",
       "        vertical-align: middle;\n",
       "    }\n",
       "\n",
       "    .dataframe tbody tr th {\n",
       "        vertical-align: top;\n",
       "    }\n",
       "\n",
       "    .dataframe thead th {\n",
       "        text-align: right;\n",
       "    }\n",
       "</style>\n",
       "<table border=\"1\" class=\"dataframe\">\n",
       "  <thead>\n",
       "    <tr style=\"text-align: right;\">\n",
       "      <th></th>\n",
       "      <th>Area</th>\n",
       "      <th>BHK</th>\n",
       "      <th>Bathroom</th>\n",
       "      <th>Furnishing</th>\n",
       "      <th>Locality</th>\n",
       "      <th>Parking</th>\n",
       "      <th>Price</th>\n",
       "      <th>Status</th>\n",
       "      <th>Transaction</th>\n",
       "      <th>Type</th>\n",
       "      <th>Per_Sqft</th>\n",
       "    </tr>\n",
       "  </thead>\n",
       "  <tbody>\n",
       "    <tr>\n",
       "      <th>0</th>\n",
       "      <td>800.0</td>\n",
       "      <td>3</td>\n",
       "      <td>2.0</td>\n",
       "      <td>Semi-Furnished</td>\n",
       "      <td>Rohini Sector 25</td>\n",
       "      <td>1.0</td>\n",
       "      <td>6500000</td>\n",
       "      <td>Ready_to_move</td>\n",
       "      <td>New_Property</td>\n",
       "      <td>Builder_Floor</td>\n",
       "      <td>NaN</td>\n",
       "    </tr>\n",
       "    <tr>\n",
       "      <th>1</th>\n",
       "      <td>750.0</td>\n",
       "      <td>2</td>\n",
       "      <td>2.0</td>\n",
       "      <td>Semi-Furnished</td>\n",
       "      <td>J R Designers Floors, Rohini Sector 24</td>\n",
       "      <td>1.0</td>\n",
       "      <td>5000000</td>\n",
       "      <td>Ready_to_move</td>\n",
       "      <td>New_Property</td>\n",
       "      <td>Apartment</td>\n",
       "      <td>6667.0</td>\n",
       "    </tr>\n",
       "    <tr>\n",
       "      <th>2</th>\n",
       "      <td>950.0</td>\n",
       "      <td>2</td>\n",
       "      <td>2.0</td>\n",
       "      <td>Furnished</td>\n",
       "      <td>Citizen Apartment, Rohini Sector 13</td>\n",
       "      <td>1.0</td>\n",
       "      <td>15500000</td>\n",
       "      <td>Ready_to_move</td>\n",
       "      <td>Resale</td>\n",
       "      <td>Apartment</td>\n",
       "      <td>6667.0</td>\n",
       "    </tr>\n",
       "    <tr>\n",
       "      <th>3</th>\n",
       "      <td>600.0</td>\n",
       "      <td>2</td>\n",
       "      <td>2.0</td>\n",
       "      <td>Semi-Furnished</td>\n",
       "      <td>Rohini Sector 24</td>\n",
       "      <td>1.0</td>\n",
       "      <td>4200000</td>\n",
       "      <td>Ready_to_move</td>\n",
       "      <td>Resale</td>\n",
       "      <td>Builder_Floor</td>\n",
       "      <td>6667.0</td>\n",
       "    </tr>\n",
       "    <tr>\n",
       "      <th>4</th>\n",
       "      <td>650.0</td>\n",
       "      <td>2</td>\n",
       "      <td>2.0</td>\n",
       "      <td>Semi-Furnished</td>\n",
       "      <td>Rohini Sector 24 carpet area 650 sqft status R...</td>\n",
       "      <td>1.0</td>\n",
       "      <td>6200000</td>\n",
       "      <td>Ready_to_move</td>\n",
       "      <td>New_Property</td>\n",
       "      <td>Builder_Floor</td>\n",
       "      <td>6667.0</td>\n",
       "    </tr>\n",
       "    <tr>\n",
       "      <th>...</th>\n",
       "      <td>...</td>\n",
       "      <td>...</td>\n",
       "      <td>...</td>\n",
       "      <td>...</td>\n",
       "      <td>...</td>\n",
       "      <td>...</td>\n",
       "      <td>...</td>\n",
       "      <td>...</td>\n",
       "      <td>...</td>\n",
       "      <td>...</td>\n",
       "      <td>...</td>\n",
       "    </tr>\n",
       "    <tr>\n",
       "      <th>1254</th>\n",
       "      <td>4118.0</td>\n",
       "      <td>4</td>\n",
       "      <td>5.0</td>\n",
       "      <td>Unfurnished</td>\n",
       "      <td>Chittaranjan Park</td>\n",
       "      <td>3.0</td>\n",
       "      <td>55000000</td>\n",
       "      <td>Ready_to_move</td>\n",
       "      <td>New_Property</td>\n",
       "      <td>Builder_Floor</td>\n",
       "      <td>12916.0</td>\n",
       "    </tr>\n",
       "    <tr>\n",
       "      <th>1255</th>\n",
       "      <td>1050.0</td>\n",
       "      <td>3</td>\n",
       "      <td>2.0</td>\n",
       "      <td>Semi-Furnished</td>\n",
       "      <td>Chittaranjan Park</td>\n",
       "      <td>3.0</td>\n",
       "      <td>12500000</td>\n",
       "      <td>Ready_to_move</td>\n",
       "      <td>Resale</td>\n",
       "      <td>Builder_Floor</td>\n",
       "      <td>12916.0</td>\n",
       "    </tr>\n",
       "    <tr>\n",
       "      <th>1256</th>\n",
       "      <td>875.0</td>\n",
       "      <td>3</td>\n",
       "      <td>3.0</td>\n",
       "      <td>Semi-Furnished</td>\n",
       "      <td>Chittaranjan Park</td>\n",
       "      <td>3.0</td>\n",
       "      <td>17500000</td>\n",
       "      <td>Ready_to_move</td>\n",
       "      <td>New_Property</td>\n",
       "      <td>Builder_Floor</td>\n",
       "      <td>12916.0</td>\n",
       "    </tr>\n",
       "    <tr>\n",
       "      <th>1257</th>\n",
       "      <td>990.0</td>\n",
       "      <td>2</td>\n",
       "      <td>2.0</td>\n",
       "      <td>Unfurnished</td>\n",
       "      <td>Chittaranjan Park Block A</td>\n",
       "      <td>1.0</td>\n",
       "      <td>11500000</td>\n",
       "      <td>Ready_to_move</td>\n",
       "      <td>Resale</td>\n",
       "      <td>Builder_Floor</td>\n",
       "      <td>12916.0</td>\n",
       "    </tr>\n",
       "    <tr>\n",
       "      <th>1258</th>\n",
       "      <td>11050.0</td>\n",
       "      <td>3</td>\n",
       "      <td>3.0</td>\n",
       "      <td>Unfurnished</td>\n",
       "      <td>Chittaranjan Park</td>\n",
       "      <td>1.0</td>\n",
       "      <td>18500000</td>\n",
       "      <td>Ready_to_move</td>\n",
       "      <td>New_Property</td>\n",
       "      <td>Builder_Floor</td>\n",
       "      <td>12916.0</td>\n",
       "    </tr>\n",
       "  </tbody>\n",
       "</table>\n",
       "<p>1259 rows × 11 columns</p>\n",
       "</div>"
      ],
      "text/plain": [
       "         Area  BHK  Bathroom      Furnishing  \\\n",
       "0       800.0    3       2.0  Semi-Furnished   \n",
       "1       750.0    2       2.0  Semi-Furnished   \n",
       "2       950.0    2       2.0       Furnished   \n",
       "3       600.0    2       2.0  Semi-Furnished   \n",
       "4       650.0    2       2.0  Semi-Furnished   \n",
       "...       ...  ...       ...             ...   \n",
       "1254   4118.0    4       5.0     Unfurnished   \n",
       "1255   1050.0    3       2.0  Semi-Furnished   \n",
       "1256    875.0    3       3.0  Semi-Furnished   \n",
       "1257    990.0    2       2.0     Unfurnished   \n",
       "1258  11050.0    3       3.0     Unfurnished   \n",
       "\n",
       "                                               Locality  Parking     Price  \\\n",
       "0                                      Rohini Sector 25      1.0   6500000   \n",
       "1                J R Designers Floors, Rohini Sector 24      1.0   5000000   \n",
       "2                   Citizen Apartment, Rohini Sector 13      1.0  15500000   \n",
       "3                                      Rohini Sector 24      1.0   4200000   \n",
       "4     Rohini Sector 24 carpet area 650 sqft status R...      1.0   6200000   \n",
       "...                                                 ...      ...       ...   \n",
       "1254                                  Chittaranjan Park      3.0  55000000   \n",
       "1255                                  Chittaranjan Park      3.0  12500000   \n",
       "1256                                  Chittaranjan Park      3.0  17500000   \n",
       "1257                          Chittaranjan Park Block A      1.0  11500000   \n",
       "1258                                  Chittaranjan Park      1.0  18500000   \n",
       "\n",
       "             Status   Transaction           Type  Per_Sqft  \n",
       "0     Ready_to_move  New_Property  Builder_Floor       NaN  \n",
       "1     Ready_to_move  New_Property      Apartment    6667.0  \n",
       "2     Ready_to_move        Resale      Apartment    6667.0  \n",
       "3     Ready_to_move        Resale  Builder_Floor    6667.0  \n",
       "4     Ready_to_move  New_Property  Builder_Floor    6667.0  \n",
       "...             ...           ...            ...       ...  \n",
       "1254  Ready_to_move  New_Property  Builder_Floor   12916.0  \n",
       "1255  Ready_to_move        Resale  Builder_Floor   12916.0  \n",
       "1256  Ready_to_move  New_Property  Builder_Floor   12916.0  \n",
       "1257  Ready_to_move        Resale  Builder_Floor   12916.0  \n",
       "1258  Ready_to_move  New_Property  Builder_Floor   12916.0  \n",
       "\n",
       "[1259 rows x 11 columns]"
      ]
     },
     "execution_count": 3,
     "metadata": {},
     "output_type": "execute_result"
    }
   ],
   "source": [
    "df=pd.read_csv(\"C:\\\\Users\\\\rupan\\\\OneDrive - stu.aud.ac.in\\\\Desktop\\\\MagicBricks.csv\")\n",
    "df"
   ]
  },
  {
   "cell_type": "markdown",
   "id": "781aaae9",
   "metadata": {},
   "source": [
    "#### Checking shape of data"
   ]
  },
  {
   "cell_type": "code",
   "execution_count": 4,
   "id": "38339505",
   "metadata": {},
   "outputs": [
    {
     "data": {
      "text/plain": [
       "(1259, 11)"
      ]
     },
     "execution_count": 4,
     "metadata": {},
     "output_type": "execute_result"
    }
   ],
   "source": [
    "df.shape"
   ]
  },
  {
   "cell_type": "markdown",
   "id": "65254ac0",
   "metadata": {},
   "source": [
    "#### Checking info"
   ]
  },
  {
   "cell_type": "code",
   "execution_count": 5,
   "id": "6845ee78",
   "metadata": {},
   "outputs": [
    {
     "name": "stdout",
     "output_type": "stream",
     "text": [
      "<class 'pandas.core.frame.DataFrame'>\n",
      "RangeIndex: 1259 entries, 0 to 1258\n",
      "Data columns (total 11 columns):\n",
      " #   Column       Non-Null Count  Dtype  \n",
      "---  ------       --------------  -----  \n",
      " 0   Area         1259 non-null   float64\n",
      " 1   BHK          1259 non-null   int64  \n",
      " 2   Bathroom     1257 non-null   float64\n",
      " 3   Furnishing   1254 non-null   object \n",
      " 4   Locality     1259 non-null   object \n",
      " 5   Parking      1226 non-null   float64\n",
      " 6   Price        1259 non-null   int64  \n",
      " 7   Status       1259 non-null   object \n",
      " 8   Transaction  1259 non-null   object \n",
      " 9   Type         1254 non-null   object \n",
      " 10  Per_Sqft     1018 non-null   float64\n",
      "dtypes: float64(4), int64(2), object(5)\n",
      "memory usage: 108.3+ KB\n"
     ]
    }
   ],
   "source": [
    "df.info()"
   ]
  },
  {
   "cell_type": "markdown",
   "id": "f2f4c23f",
   "metadata": {},
   "source": [
    "#### checking missing values"
   ]
  },
  {
   "cell_type": "code",
   "execution_count": 6,
   "id": "a0bc06dd",
   "metadata": {},
   "outputs": [
    {
     "data": {
      "text/plain": [
       "<AxesSubplot:>"
      ]
     },
     "execution_count": 6,
     "metadata": {},
     "output_type": "execute_result"
    },
    {
     "data": {
      "image/png": "[encoded data removed]",
      "text/plain": [
       "<Figure size 1800x720 with 3 Axes>"
      ]
     },
     "metadata": {
      "needs_background": "light"
     },
     "output_type": "display_data"
    }
   ],
   "source": [
    "import missingno as msno\n",
    "msno.bar(df)"
   ]
  },
  {
   "cell_type": "code",
   "execution_count": 7,
   "id": "6e575b62",
   "metadata": {},
   "outputs": [
    {
     "data": {
      "text/plain": [
       "Area             0\n",
       "BHK              0\n",
       "Bathroom         2\n",
       "Furnishing       5\n",
       "Locality         0\n",
       "Parking         33\n",
       "Price            0\n",
       "Status           0\n",
       "Transaction      0\n",
       "Type             5\n",
       "Per_Sqft       241\n",
       "dtype: int64"
      ]
     },
     "execution_count": 7,
     "metadata": {},
     "output_type": "execute_result"
    }
   ],
   "source": [
    "df.isnull().sum()"
   ]
  },
  {
   "cell_type": "code",
   "execution_count": 8,
   "id": "d913db5a",
   "metadata": {},
   "outputs": [
    {
     "data": {
      "text/plain": [
       "Area           float64\n",
       "BHK              int64\n",
       "Bathroom       float64\n",
       "Furnishing      object\n",
       "Locality        object\n",
       "Parking        float64\n",
       "Price            int64\n",
       "Status          object\n",
       "Transaction     object\n",
       "Type            object\n",
       "Per_Sqft       float64\n",
       "dtype: object"
      ]
     },
     "execution_count": 8,
     "metadata": {},
     "output_type": "execute_result"
    }
   ],
   "source": [
    "df.dtypes"
   ]
  },
  {
   "cell_type": "markdown",
   "id": "700ae329",
   "metadata": {},
   "source": [
    "#### Filling the missing values"
   ]
  },
  {
   "cell_type": "code",
   "execution_count": 9,
   "id": "a08783e3",
   "metadata": {},
   "outputs": [
    {
     "data": {
      "text/plain": [
       "0"
      ]
     },
     "execution_count": 9,
     "metadata": {},
     "output_type": "execute_result"
    }
   ],
   "source": [
    "for i in df.columns:\n",
    "    if df[i].isnull().sum()>0:\n",
    "        if df[i].dtype==\"O\":\n",
    "            df[i]=df[i].fillna(df[i].mode()[0])\n",
    "        else:\n",
    "            if ((df[i].dtype==\"int\") or  (df[i].dtype==\"float\")):\n",
    "                df[i]=df[i].fillna(df[i].mean())\n",
    "df.isnull().sum().sum()"
   ]
  },
  {
   "cell_type": "markdown",
   "id": "808f17f0",
   "metadata": {},
   "source": [
    "- No missing values"
   ]
  },
  {
   "cell_type": "markdown",
   "id": "e839171d",
   "metadata": {},
   "source": [
    "#### Checking unique values"
   ]
  },
  {
   "cell_type": "code",
   "execution_count": 10,
   "id": "cade4b5e",
   "metadata": {},
   "outputs": [
    {
     "name": "stdout",
     "output_type": "stream",
     "text": [
      "Furnishing ------- ['Semi-Furnished' 'Furnished' 'Unfurnished'] ------------- 3\n",
      "Locality ------- ['Rohini Sector 25' 'J R Designers Floors, Rohini Sector 24'\n",
      " 'Citizen Apartment, Rohini Sector 13' 'Rohini Sector 24'\n",
      " 'Rohini Sector 24 carpet area 650 sqft status Ready to Move floor 4 out of 4 floors transaction New Property furnishing Semi-Furnished facing East overlooking Garden/Park, Main Road car parking 1 Open bathroom 2 balcony 1 ownership Freehold Newly Constructed Property Newly Constructed Property East Facing Property 2BHK Newly build property for Sale. A House is waiting for a Friendly Family to make it a lovely home.So please come and make his house feel alive once again. read more Contact Agent View Phone No. Share Feedback Garima properties Certified Agent Trusted by Users Genuine Listings Market Knowledge'\n",
      " 'Delhi Homes, Rohini Sector 24' 'Rohini Sector 21' 'Rohini Sector 22'\n",
      " 'Rohini Sector 20'\n",
      " 'Rohini Sector 8 How Auctions work? The borrower has the physical possession of the Property. However the lender (Bank) can legally sell the Property. super area 32 sqm status Ready to Move floor 1 transaction Resale furnishing Semi-Furnished Contact Now Enquire Now Auction By'\n",
      " 'Rohini Sector 25 carpet area 660 sqft status Ready to Move floor 2 out of 4 floors transaction New Property furnishing Semi-Furnished facing North overlooking Garden/Park, Main Road car parking 1 Open bathroom 2 balcony 1 ownership Freehold Newly Constructed Property Newly Constructed Property Near by Ryan international school 2BHK Located on the Ground Floor of a four story building with open parking the flat measure 720 Sq Ft the property is located in a green and plush sector with common parks opposite every lane and bus and auto stand nearby. its situated 1.5 km from the metro station and walkable distance from shopping distance from shopping complex. read more Contact Agent View Phone No. Share Feedback Know your Certified Agent CRISIL Rating No of Employees 9 Kulwant & Company Certified Agent Trusted by Users Genuine Listings 5500+ Buyers Served'\n",
      " 'Rohini Sector 16' 'Rohini Sector 14' 'Mayur Apartment, Rohini Sector 9'\n",
      " 'Vijay Vihar, Rohini'\n",
      " 'Rohini Sector 18 carpet area 40 sqm status Ready to Move floor 2 out of 4 floors transaction Resale furnishing Furnished facing East overlooking Main Road car parking 2 Open bathroom 1 balcony 1 ownership Freehold East Facing Property It an LIG three side corner flat in second floor, having full scope of expansion. interior decorated with 2 textured wall , kajaria tiles , fully modular kitchen, branded bathroom and toilet fittings, LED panel, ac in one bedroom, false ceiling in entire flat.south facing unobstructed view balcony. It was all renovated only 2.5 yrs back so every thing is in brand new condition. read more Contact Owner View Phone No. Share Feedback Owner Pramod'\n",
      " 'Prashant Vihar, Rohini' 'Rohini Sector 5'\n",
      " 'Sanskriti Apartment, Rohini Sector 28' 'Rohini Sector 19'\n",
      " 'Lajpat Nagar 2' 'Lajpat Nagar 1' 'Lajpat Nagar'\n",
      " 'Vikram Vihar, Lajpat Nagar' 'Lajpat Nagar 4' 'Lajpat Nagar 3'\n",
      " 'Dayanand Colony, Lajpat Nagar How Auctions work? The borrower has the physical possession of the Property. However the lender (Bank) can legally sell the Property. super area 810 sqft status Ready to Move floor 1 out of 5 floors transaction Resale balcony 1 Contact Now Enquire Now Auction By Bank'\n",
      " 'Amar Colony, Lajpat Nagar' 'DDA Flats Sector 14, Dwarka Sector 14'\n",
      " 'Siddhartha Heights, Dwarka Sector 24'\n",
      " 'MTNL Employees House Welfare Society, Dwarka Sector 24'\n",
      " 'Delhi Homes Yojana, Dwarka Sector 24'\n",
      " 'The Elite Spire, Dwarka Sector 21'\n",
      " 'Kunj Vihar Apartment, Dwarka Sector 12'\n",
      " 'Ashirwad Apartments, Dwarka Sector 12' 'Sunny Valley Apartments, Dwarka'\n",
      " 'Shri Agrasen Apartment, Dwarka Sector 7'\n",
      " 'Chopra Apartment, Dwarka Sector 23'\n",
      " 'Mohinder Apartments, Dwarka Sector 12'\n",
      " 'Chander Lok Apartment, Dwarka Sector 19' 'Neelachal, Dwarka Sector 5'\n",
      " 'Dwarka' 'MeeraBai Apartment, Dwarka Sector 5'\n",
      " 'Crescent Apartments, Dwarka Sector 18'\n",
      " 'Ashoka Enclave Apartment, Dwarka Sector 11'\n",
      " 'Nav Kairali Apartment, Dwarka Sector 3' 'Ashirwad Apartments, Dwarka'\n",
      " 'Indraprastha Apartment, Dwarka Sector 12' 'Mohinder Apartments, Dwarka'\n",
      " 'Ashoka Apartments, Dwarka Sector 12' 'Karuna Vihar Apartment, Dwarka'\n",
      " 'LNT Apartments, Dwarka' 'Dwarka Sector 4'\n",
      " 'Dwarka Sector 3 carpet area 400 sqft status Ready to Move floor 1 out of 4 floors transaction New Property furnishing Semi-Furnished facing West overlooking Main Road bathroom 1 balcony 1 ownership Freehold Newly Constructed Property 1BHK freehold property , reserved parking, ample space for visitor parking, bathrooms with modern facilities, complete light in all room, wooden wardrobes in bedrooms, separate electric & water meter connection, separate water tank at roof, electronic door lock system with intercom facility, wall to wall POP work, fall ceiling work in all rooms, royal paint work in all rooms, 24X7 running water, branded electric fittings, modular kitchen with electronic chimney, marble vitrified tile flooring, near to metro station, well connected to main road ect. 80 to 90 home loan available. Ready to move read more Contact Agent View Phone No. Share Feedback Agent S.B. Associates 4000+ Buyers Served'\n",
      " 'Dwarka Sector 16B' 'Vinoba Puri, Lajpat Nagar' 'Budh Vihar'\n",
      " 'Budh Vihar super area 50 sqyrd status Ready to Move floor Ground out of 2 floors transaction Resale furnishing Unfurnished facing East car parking 1 Open bathroom 1 balcony 2 ownership Freehold For Sale 2 BHK 50 yrd, 2 side open Ground Floor, First and Second Floor in H Block, Gali No. 04, Near Laxmi Narain Mandir, BudhVihar read more Contact Agent View Phone No. Share Feedback Agent Sahyog Properties 1000+ Buyers Served'\n",
      " 'Budh Vihar Phase 1' 'Budh Vihar Phase 2'\n",
      " 'Saptrishi Apartment, Rohini Sector 23' 'Rohini Sector 23'\n",
      " 'Rohini ( 1 km from Shahbad Dairy, Rohini)'\n",
      " 'The Leela Sky Villas, Patel Nagar' 'Uttam Nagar Floors, Uttam Nagar'\n",
      " 'Virat Residency, Dwarka Mor' 'Find Homes, Greater Kailash 2'\n",
      " 'Adarsh Homes, Dwarka Mor' 'Kushwaha Homes, Uttam Nagar'\n",
      " 'Godrej South Estate, Okhla' 'APL Builder Floor, Greater Kailash 1'\n",
      " 'Janakpuri Block A3' 'Greater Kailash 2'\n",
      " 'Partap Homes, Bhagwati Vihar, Uttam Nagar' 'The Amaryllis, Karol Bagh'\n",
      " 'Diamond Heights Multi Estate, Najafgarh'\n",
      " 'Vasant Vihar Builder Floor, Vasant Vihar' 'Vasant Kunj'\n",
      " 'Greater Kailash 1' 'Khanpur, Madangir' 'Batla House, Okhla'\n",
      " 'Friends Colony West, New Friends Colony' 'New Friends Colony'\n",
      " 'Maharani Bagh, New Friends Colony'\n",
      " 'New Friends Colony carpet area 4300 sqft status Ready to Move floor 2 out of 3 floors transaction Resale furnishing Unfurnished facing North - East overlooking Garden/Park, Main Road car parking 2 Covered, 2 Open bathroom 4 balcony 3 ownership Freehold hurry up... dont waste time any where, It is best deal in your pocket budget.well maintained second floor with terrace garden plus 2 additional room on terrace up for sale in new friends colony.the property has 4 king sized bedroom attached bathroom with roof top shower with Jacuzzi. It has 3 big balconies with wonderful outer view. It has modular kitchen with new fittings. It has servant quarter pooja room study room store room etc. It has drawing & dining. It has 2 car parking with gated society. It has 247 hours water supply with full power backup. It is in amazing location. read more Contact Agent View Phone No. Share Feedback Crisil Silver Agent Sagar Home Developers Pvt. Ltd. 1000+ Buyers Served'\n",
      " 'Friends Colony East, New Friends Colony'\n",
      " 'Kalindi Colony, Maharani Bagh, New Friends Colony'\n",
      " 'Taimoor Enclave, New Friends Colony carpet area 2800 sqft status Ready to Move floor 2 out of 3 floors transaction Resale furnishing Semi-Furnished facing East overlooking Garden/Park society Taimoor Enclave car parking 2 Covered, 1 Open bathroom 4 balcony 2 ownership Freehold Two floor of the house is available for sale SECOND AND THIRD FLOOR EXTRA made, provision for LIFT can be provided by the OWNER .DDA FLATS of TAIMOOR ENCLAVE, NEAR GURUDWARA, NEW FRIENDS COLONY, SOUTH DELHI , HOUSE IS ON THE SECOND FLOOR have 3 bed room and 2 wash room and and same on the Third Floor, URGENT SALE, BROKER EXCUSE. read more Contact Agent View Phone No. Share Feedback Agent Delhi Homes 100+ Buyers Served'\n",
      " 'New Friends Colony Floors, New Friends Colony'\n",
      " 'Kailash Colony, Greater Kailash' 'Ram Nagar, Shahdara'\n",
      " 'Jyoti Nagar West, Shahdara' 'Hans Apartments, Vishwas Nagar, Shahdara'\n",
      " 'Naveen Shahdara, Shahdara' 'Balbir Nagar, Shahdara'\n",
      " 'Rohitash Nagar East, Shahdara' 'Shahdara' 'Vishwas Nagar, Shahdara'\n",
      " 'DDA RPS Flats, Mansarowar Park, Shahdara' 'Yamuna Vihar, Shahdara'\n",
      " 'Rohtash Nagar, Shahdara' 'Ram Nagar Extension, Shahdara'\n",
      " 'Maujpur, Shahdara' 'Mansarowar Park, Shahdara'\n",
      " 'Gorakh Park West, Shahdara' 'Shivnam Apartment, Shahdara'\n",
      " 'Jyoti Colony, Shahdara' 'Ahinsha Vatika, Ram Nagar, Shahdara'\n",
      " 'mind. The space is airy, is well located and can be easily customized as per the needs. Prime facilities are easily accessible from this place with Government Girls Senior Secondary School No 2 (0 km ). Other key neighbourhood are B Block Market (0 km ). read more Contact Owner View Phone No. Share Feedback Owner vinod kumar'\n",
      " 'Laxmi Nagar' 'Guru Angad Nagar West, Laxmi Nagar'\n",
      " 'Lalita Park, Laxmi Nagar' 'Krishan Kunj, Laxmi Nagar'\n",
      " 'Laxmi Nagar super area 450 sqft status Ready to Move floor 3 out of 4 floors transaction New Property furnishing Semi-Furnished facing East overlooking Main Road bathroom 2 balcony 1 ownership Freehold Newly Constructed Property East Facing Property This Builder Floor Apartment at 3rd faces East & overlooks Main Road offering a beautiful view from the house. with airy interiors. The type of ownership is Freehold. The Builder Floor Apartment is newly constructed. Bank loans available from LIC Housing Finance, Kotak Mahindra Bank, Indiabulls. Flooring of type Marble covers maximum part of the house. The location has easy access to, Dena Bank (0 km ), Delhi Convent School (0 km ), DDA Market (0 km ) and Nirman Vihar Metro Station (2 km ). read more Contact Owner View Phone No. Share Feedback Owner Sonia'\n",
      " \"Laxmi Nagar carpet area 1000 sqft status Ready to Move floor 1 out of 4 floors transaction Resale furnishing Furnished bathroom 3 balcony 1 It's a 1st floor Builder Floor Apartment in a building of total 4 floors. The age of construction for this Builder Floor Apartment is between 10 to 15 years. The location has easy access to, Dena Bank (0 km ), Delhi Convent School (0 km ), DDA Market (0 km ) and Nirman Vihar Metro Station (2 km ). read more Contact Owner View Phone No. Share Feedback Owner Vipul Jain\"\n",
      " 'Bank Enclave, Laxmi Nagar' 'Uttam Nagar' 'Dwarka Mor' 'Uttam Nagar West'\n",
      " 'SB Residency, Dwarka Mor' 'Kiran Garden, Uttam Nagar'\n",
      " 'Mohan Garden, Razapur Khurd' 'Mitya Homes, Dwarka Mor'\n",
      " 'Uttam Nagar carpet area 550 sqft status Ready to Move transaction New Property furnishing Semi-Furnished facing East overlooking Main Road bathroom 2 balcony 1 ownership Freehold Newly Constructed Property Newly Constructed Property East Facing Property 2bhk fully furnished flats available for sale at uttam nagar, the flat is fully loaded, one singal wall texture in all bedrooms, modular kitchen, LED pannel in drawing room, wardrobes in bedroom read more Contact Agent View Phone No. Share Feedback Pranita Developers Pvt. Ltd. Certified Agent Trusted by Users Genuine Listings 100+ Buyers Served'\n",
      " 'New Uttam Nagar, Uttam Nagar' 'Patel Nagar South, Patel Nagar'\n",
      " 'Patel Nagar West' 'Patel Nagar East, Patel Nagar'\n",
      " 'Punjabi Basti, Patel Nagar' 'Baljit Nagar, Patel Nagar'\n",
      " 'DDA Flats Vasant Kunj, Vasant Kunj Sector B'\n",
      " 'DDA Flats Vasant Kunj, Vasant Kunj carpet area 1200 sqft status Ready to Move floor 5 out of 7 floors transaction Resale furnishing Semi-Furnished facing North - West overlooking Garden/Park, Main Road society DDA Flats Vasant Kunj car parking 1 Covered, 1 Open bathroom 2 balcony 2 ownership Freehold A southEAST facing 3 bhk resale flat is available in the promising locality of sectorE vasant kunj vasant kunj, delhi south. It is a ready to move in spacious flat and is located on the 5th floor. Every single detail of the flat is carefully designed. This property offers quality specifications such as lifts, park, water storage and securityfire alar. It is a gated society flat. It provides a spectacular view of the main road and parkgarden. The apartment is priced at rs. 2 cr. It is a freehold property, with a super builtUp area of 1600 sq. Ft. The property price is negotiable. read more Contact Agent Enquire Now Share Feedback Crisil Silver Agent Link Properties Pvt. Ltd. 5000+ Buyers Served'\n",
      " 'DDA Flats Vasant Kunj, Vasant Kunj'\n",
      " 'DDA Flats Pocket 1, Vasant Kunj Sector B'\n",
      " 'Saraswati Narmada Ganga Yamuna Apartment, Vasant Kunj Sector D'\n",
      " 'DDA Flats Sector E Pocket 1, Vasant Kunj'\n",
      " 'DDA Flats Vasant Kunj, Vasant Kunj Sector D' 'Vasant Kunj Sector A'\n",
      " 'E2 Vasant Kunj, Vasant Kunj'\n",
      " 'Ganga Apartment Sector D Pocket 6, Vasant Kunj' 'Vasant Kunj Sector C'\n",
      " 'Vasant Kunj Sector D' 'DDA Flats Vasant Kunj, Vasant Kunj Sector C'\n",
      " 'Kishangarh, Vasant Kunj' 'DDA Pocket 1, Vasant Kunj Sector D'\n",
      " 'Vasant Kunj Sector B' 'Gandhi Nagar, Shahdara'\n",
      " 'DDA Flats Mansarovar Park, Seelampur, Shahdara' 'Seelampur, Shahdara'\n",
      " 'Shanti Mohalla, Shahdara' 'Rajgarh Colony, Shahdara'\n",
      " 'Kanti Nagar East, Shahdara' 'Raghubarpura, Shahdara'\n",
      " 'Sukhdev Vihar, Okhla' 'Geeta Colony' 'Krishna Nagar Block A'\n",
      " 'Taj Enclave, Khairatabad' 'Shastri Park, Shahdara'\n",
      " 'Sitaram Bazar, Chandni Chowk'\n",
      " 'Shahdara How Auctions work? The borrower has the physical possession of the Property. However the lender (Bank) can legally sell the Property. super area 852 sqft status Ready to Move transaction Resale ownership Freehold bathroom 2 Contact Now Enquire Now Auction By'\n",
      " 'Saket' 'Anupam Enclave, Saket' 'RWA Flats, Saket'\n",
      " 'Metrotech Builder Floors, Saket'\n",
      " 'Saket Court Residential Complex, Saket' 'Press Enclave Society, Saket'\n",
      " 'Project Paryavaran Complex, Saket' 'Safdarjung Enclave'\n",
      " 'Arjun Nagar, Safdarjung Enclave'\n",
      " \"Safdarjung Enclave carpet area 1100 sqft status Ready to Move floor Ground out of 4 floors transaction Resale furnishing Unfurnished facing North - East overlooking Garden/Park, Main Road car parking 1 Covered, 1 Open bathroom 3 balcony 3 ownership Freehold if you are searching for your dream house, congratulation. you're not so far from your destiny. we got unbeatable ground floor in b-block safdarjung enclave for sale. it is in 150 yds. It has 3 large king sized bedroom attached bathroom with Jacuzzi and roof top shower with all other fittings. it has modular kitchen with all needed facility. it has 3 big balcony with amazing out side view. it has 1 servant quarter also. it has 1 reserved car parking with gated society. It has 24*7 water supply with full power backup. for more information contact us at once because it can be your dream house. read more Contact Agent View Phone No. Share Feedback Crisil Silver Agent Sagar Home Developers Pvt. Ltd. 1000+ Buyers Served\"\n",
      " 'Krishna Nagar-Safdarjung Enclave'\n",
      " 'Safdarjung Enclave carpet area 3250 sqft status Ready to Move floor 1 out of 4 floors transaction Resale furnishing Semi-Furnished facing North - East overlooking Garden/Park, Main Road car parking 1 Covered bathroom 4 balcony 3 ownership Freehold Near Buy Green park Metro station. The location of the property is Awesome and Peaceful. The construction is very Highend and Very tasteful Done-up. The Same property is location on the FF. 4 Side corner read more Contact Agent Enquire Now Share Feedback Crisil Silver Agent Findahouse Real Estate Consultants LLP 2000+ Buyers Served'\n",
      " 'Safdarjung Enclave carpet area 290 sqyrd status Ready to Move floor 2 out of 3 floors transaction Resale furnishing Semi-Furnished facing West overlooking Main Road car parking 2 Open bathroom 4 balcony 3 ownership Freehold Opposite Deer Park.The property comes with independent Terrace. The area is centrally located and close to ring road which allows easy acess to all other areas.Renowned Delhi Lawn Tennis Association is within 10 minutes walking distance.Green park market is walkable distance. read more Contact Owner View Phone No. Share Feedback Owner Hemant pajankar'\n",
      " 'Safdarjung Enclave carpet area 1450 sqft status Ready to Move floor 3 out of 4 floors transaction Resale furnishing Semi-Furnished facing North - East overlooking Garden/Park, Main Road car parking 1 Covered, 1 Open bathroom 3 balcony 2 ownership Freehold Park facing builder floor apartment available for sale in safderjung enclave, 3 bedroom with attached bathroom, drawing dinning, modular kitchen. the property is on the top floor of a four storey building with terrace right, servant quarter, 1 car parking in stilt. read more Contact Agent View Phone No. Share Feedback Agent Delhi Homes Realty 1000+ Buyers Served'\n",
      " 'Safdarjung Enclave super area 2200 sqft status Ready to Move floor 2 out of 4 floors transaction New Property furnishing Semi-Furnished facing South overlooking Main Road car parking 3 Covered, 2 Open bathroom 4 balcony 3 ownership Freehold Newly Constructed Property Wide Road 450 Yards 2nd floor brand new 4 bhk attached bathrooms with full lighted and ventilated house.Most Valuable DealSEE TO BELIEVE read more Contact Agent View Phone No. Share Feedback Crisil Bronze Agent Panchsheel Homes 500+ Buyers Served'\n",
      " 'Reserve Bank Enclave, Paschim Vihar' 'Paschim Vihar'\n",
      " 'Pushkar Enclave, Paschim Vihar' 'Paschim Vihar Block B2'\n",
      " 'Paschimpuri, Paschim Vihar' 'Paschim Vihar Block B4'\n",
      " 'Paschim Vihar How Auctions work? The borrower has the physical possession of the Property. However the lender (Bank) can legally sell the Property. carpet area 780 sqft status Ready to Move floor Ground out of 3 floors transaction Resale furnishing Unfurnished facing West bathroom 2 balcony 1 ownership Freehold Contact Now Enquire Now Auction By Bank'\n",
      " 'DDA Lig Flats, Paschim Vihar carpet area 45 sqyrd status Ready to Move floor 4 out of 4 floors transaction Resale furnishing Semi-Furnished facing East overlooking Garden/Park, Main Road society DDA Lig Flats bathroom 1 balcony 1 ownership Freehold East Facing Property Expected price for the Flat is kept at 45 Lac. This is a 1 bedroom apartment present in DDA Lig Flats, Paschim Vihar. It measures an area of 45 Sq-m. It is on 4 floor out of 4 floors in the tower and is also well ventilated. The Flat has 1 washroom and also has 1 spacious balcony. read more Contact Owner View Phone No. Share Feedback Owner Anil'\n",
      " 'Archana Apartment, Paschim Vihar' 'Guru Harikishan Nagar, Paschim Vihar'\n",
      " 'Mianwali Nagar, Paschim Vihar'\n",
      " 'Navbharat Apartment, Paschim Vihar Block B1' 'Paschim Vihar Block A2'\n",
      " 'LIC Colony, Paschim Vihar' 'DDA Lig Flats, Paschim Vihar'\n",
      " 'Paschim Vihar carpet area 850 sqft status Ready to Move floor 2 out of 4 floors transaction Resale furnishing Unfurnished facing North overlooking Garden/Park bathroom 3 balcony 1 ownership Freehold If you want to live a contended, pollution-free and peaceful life with your family and children, here is the once in a lifetime opportunity awaiting your attention!! Presenting a 3BHK ready to move flat up for sale in Paschim Vihar, which is becoming a dream residential area for its ability to provide a slice of authentic New Delhi city life. Property SpecificationsWell-knitted and planned on the super area of 900 sq ft is this 2bhk flat where the owner enjoys the complete rights of the freehold ownership. In a low-rise building of four-floors, this impressive infrastructure is positioned on the second floor, hence the residents can experience the greatest possible cross ventilation and natural sunlight.Though the age of construction is between 15-20 years, this north-facing flat is perfectly maintained and features 3 spacious bedrooms, 2 bathrooms, 2 airy balconies, a dining room, a living room, and a kitchen. All the bedrooms are adorned with decorative wardrobes offered with enough space for storage of clothes and other valuables.The attached toilet is designed in Indian fashion which is mounted-up with a geyser where you can enjoy a hot water bath, while the bathroom available for common use fashioned in the western genre.Further, an eye-catching view of the lush green garden is visible from the two well-aligned balconies where you can enjoy a hot cup of tea, where one balcony is connected to the bedroom, while the other balcony opens to the lobby. Bedecked with a granite countertop, a piped gas connection, and a chimney, the contemporarily designed modular kitchen is also provided with a wash area and also sufficient space for fridge.The entire flat is polished up with the good quality tiles which are easy to install and can be quite pleasant and comfortable underfoot.FacilitiesKeeping in mind the convenience of the residents, some of the basic facilities such as an unrestricted supply of water, and power backup with invertor. Additionally, one open parking space for 1 vehicle read more Contact Owner Share Feedback Owner Yogeet'\n",
      " 'Shubh Niketan, Paschim Vihar' 'Ashoka Apartment, Paschim Vihar Block A2'\n",
      " 'Sunder Apartments, Sunder Vihar, Paschim Vihar'\n",
      " 'Rajasthan Apartment, Aashirwaad Chowk, Dwarka'\n",
      " 'Gold Croft Apartment, Aashirwaad Chowk, Dwarka'\n",
      " 'Chanakya Apartments, Aashirwaad Chowk, Dwarka'\n",
      " 'Bank Apartments, Aashirwaad Chowk, Dwarka carpet area 1550 sqft status Ready to Move floor 7 out of 7 floors transaction Resale furnishing Semi-Furnished facing North - East overlooking Garden/Park, Main Road society Bank Apartments car parking 1 Covered, 1 Open bathroom 2 balcony 3 ownership Freehold A spacious 3 Bedroom flat is available for sale in Dwarka , New Delhi.it is cornor building plenty of sunlight and airy. It is located on the 2 Floor. It has a covered area of 1500 Sq-ft. The flat has vitrified tiles & Mosiac flooring. The flat has 24 Hours Available water supply and No/Rare Powercut.. The property is fantastically located and is much sought-after. The property is available at a very competitive Price. read more Contact Agent View Phone No. Share Feedback Sikka Realtors Has Maximum Property Options Is the Top Agent of the Locality Is Trusted by All Users CRISIL Rating No of employees 12 Sikka Realtors Certified Agent Locality Superstar Aashirwaad Chowk, Dwarka 2500+ Buyers Served'\n",
      " 'Mohinder Apartments, Aashirwaad Chowk, Dwarka'\n",
      " 'Bank Apartments, Aashirwaad Chowk, Dwarka' 'Aashirwaad Chowk, Dwarka'\n",
      " 'Saheta Apartment, Aashirwaad Chowk, Dwarka'\n",
      " 'Pushpanjali Apartments, Aashirwaad Chowk, Dwarka'\n",
      " 'Green Heavens Apartment, Aashirwaad Chowk, Dwarka'\n",
      " 'Hum Sub Apartment, Aashirwaad Chowk, Dwarka'\n",
      " 'Defence Officers Apartment, Aashirwaad Chowk, Dwarka'\n",
      " 'Sanchar Vihar Apartment, Aashirwaad Chowk, Dwarka'\n",
      " 'Sarve Satyam Apartment, Aashirwaad Chowk, Dwarka'\n",
      " 'Palm Green Apartment, Aashirwaad Chowk, Dwarka'\n",
      " 'Neelachal, Aashirwaad Chowk, Dwarka'\n",
      " 'Kailash Apartments, Aashirwaad Chowk, Dwarka'\n",
      " 'New Jyoti Apartments, Aashirwaad Chowk, Dwarka'\n",
      " 'PNB Employees Apartment, Aashirwaad Chowk, Dwarka'\n",
      " 'Sadbhawna CGHS, Aashirwaad Chowk, Dwarka'\n",
      " 'Commonwealth Games Village 2010'\n",
      " 'Common Wealth Games Village, Commonwealth Games Village 2010'\n",
      " 'Project Commonwealth Games Village 2010, Akshardham Temple'\n",
      " 'Project Commonwealth Games Village 2010, Commonwealth Games Village 2010'\n",
      " 'Alaknanda' 'Shivalik Apartments, Alaknanda'\n",
      " 'Narmada Apartment, Alaknanda' 'Gangotri Enclave, Alaknanda'\n",
      " 'Aravali Apartments, Alaknanda' 'Tara Apartment, Alaknanda'\n",
      " 'Narmada Apartment, Alaknanda carpet area 1400 sqft status Ready to Move floor Ground out of 3 floors transaction Resale furnishing Furnished facing North - East overlooking Garden/Park, Main Road society Narmada Apartment car parking 1 Open bathroom 3 balcony 1 ownership Freehold Near Alaknanda Main Market & Greater Kailash Metro Station. A very good 3 bhk flat for sale in rwa Narmada Apartment, delhi south. It is a superb property and offers an excellent view. The flat is unfurnished. It promises a comfortable stay. It is feng shuivaastu compliant, which is considered to bring positive energy. The appeal of the flat has been increased with the availability of a pipedGa. Indeed, the society too has multiple facilities for enjoyment, such as club housecommunity center and fitness centregym etc. It also has rain water harvesting system. It has a super builtUp area of 180 sq. Yards. read more Contact Agent View Phone No. Share Feedback Agent Sulabh Estate'\n",
      " 'Greater Kailash 4 Nri Colony' 'Project Gangotri Enclave, Alaknanda'\n",
      " 'Project Gangotri Enclave, Gangotri Enclave, Alaknanda'\n",
      " 'Nilgiri Apartment, Alaknanda' 'Yamuna Apartment, Alaknanda'\n",
      " 'Tara Apartment, Alaknanda carpet area 1400 sqft status Ready to Move floor 2 out of 3 floors transaction Resale furnishing Furnished facing North - East overlooking Garden/Park society Tara Apartment car parking 1 Covered, 1 Open bathroom 3 balcony 4 ownership Freehold Near Alaknanda Main Market, Jamia Humderd University & Batra hospital. A very good 3 bhk flat for sale in rwa Tara Apartment, delhi south. It is a superb property and offers an excellent view. The flat is unfurnished. It promises a comfortable stay. It is feng shuivaastu compliant, which is considered to bring positive energy. The appeal of the flat has been increased with the availability of a pipedGa. Indeed, the society too has multiple facilities for enjoyment, such as club housecommunity center and fitness centregym etc. It also has rain water harvesting system. It has a super builtUp area of 180 sq. Yards. Other f read more Contact Agent View Phone No. Share Feedback Agent Sulabh Estate'\n",
      " 'Sarita Vihar, Mathura Road carpet area 1500 sqft status Ready to Move floor 2 out of 4 floors transaction Resale ownership Freehold overlooking Main Road car parking 1 Open bathroom 2 balcony 2 furnishing Unfurnished For sale second third duplex .spacious 3 bedrooms with 2 washrooms drawing and dining and moduler kitchen one scooter garrage. read more Contact Agent View Phone No. Share Feedback Shree Balaji Real Estate Pvt. Ltd. Has Maximum Property Options Is the Top Agent of the Locality Is Trusted by All Users 21 Property Options in Sarita Vihar, Mathura Road Shree Balaji Real Estate Pvt. Ltd. Certified Agent Locality Superstar Maximum options in Sarita Vihar, Mathura Road'\n",
      " 'DDA Flats, Sarita Vihar, Mathura Road carpet area 1600 sqft status Ready to Move floor 1 out of 4 floors transaction Resale furnishing Semi-Furnished facing North - East overlooking Main Road society DDA Flats car parking 2 Open bathroom 2 balcony 2 ownership Freehold For sale First second third duplex in sarita vihar DDA Flates . this house free hold property clear titel . this flate well maintained and spacious peacefull location . no issue light water and parking read more Contact Agent View Phone No. Share Feedback Shree Balaji Real Estate Pvt. Ltd. Has Maximum Property Options Is the Top Agent of the Locality Is Trusted by All Users 21 Property Options in Sarita Vihar, Mathura Road Shree Balaji Real Estate Pvt. Ltd. Certified Agent Locality Superstar Maximum options in Sarita Vihar, Mathura Road'\n",
      " 'DDA Flats Sarita Vihar, Sarita Vihar, Mathura Road'\n",
      " 'DDA Flats, Sarita Vihar, Mathura Road carpet area 1600 sqft status Ready to Move floor Ground out of 4 floors transaction Resale furnishing Semi-Furnished facing North - West overlooking Main Road society DDA Flats car parking 1 Open bathroom 2 balcony 2 ownership Freehold For slae Ground First Duplex in sarita vihar .posh locality in south delhi DDa coloney . This house spacious 4 bedrooms with 2 washrooms drawing and dinning . free hold proerty clear titel . near by all amnites . well develop location . read more Contact Agent View Phone No. Share Feedback Shree Balaji Real Estate Pvt. Ltd. Has Maximum Property Options Is the Top Agent of the Locality Is Trusted by All Users 21 Property Options in Sarita Vihar, Mathura Road Shree Balaji Real Estate Pvt. Ltd. Certified Agent Locality Superstar Maximum options in Sarita Vihar, Mathura Road'\n",
      " 'DDA Flats Sarita Vihar, Sarita Vihar Pocket K'\n",
      " 'Sidharth Enclave, Kilokri, Ring Road' 'Sarita Vihar Pocket B'\n",
      " 'Sarita Vihar Pocket F'\n",
      " 'DDA Flats, Sarita Vihar, Mathura Road carpet area 1150 sqft status Ready to Move floor 3 out of 3 floors transaction Resale furnishing Semi-Furnished facing North - East overlooking Main Road society DDA Flats car parking 2 Open bathroom 2 balcony 3 ownership Freehold 2 BHK flat available for sale in sarita vihar excellent interiors flooring in all bedrooms complete wood work modular kitchen beautiful bathrooms extremely well maintained ample parking space read more Contact Agent View Phone No. Share Feedback Lavish Associates Certified Agent Trusted by Users Genuine Listings Market Knowledge'\n",
      " 'New Manglapuri, Sultanpur' 'Sultanpur Extension' 'Sultanpur'\n",
      " 'Manglapuri, Sultanpur' 'Indra Park Palam, Manglapuri'\n",
      " 'Sultanpur carpet area 1100 sqft status Ready to Move floor 1 out of 4 floors transaction Resale furnishing Semi-Furnished overlooking Main Road car parking 1 Covered bathroom 2 balcony 2 ownership Freehold 2 bhk flat available in sultanpur, near metro station, loan facility available, with registry, all the modern facilities are variable, with car parking, near market, fully ventilated. read more Contact Agent View Phone No. Share Feedback Agent Delhi Dream 3500+ Buyers Served'\n",
      " 'Chhattarpur'\n",
      " \"Chhattarpur carpet area 400 sqyrd status Ready to Move transaction New Property furnishing Semi-Furnished car parking 1 Covered, 1 Open bathroom 2 balcony 1 Newly Constructed Property It's a Ground floor Builder Floor Apartment in a building of total 4 floors. The Builder Floor Apartment is newly constructed. Prime facilities are easily accessible from this place with Oxford Angel Public School (0 km ). Other key neighbourhood are Abdul Gaffar Khan Market (0 km ). read more Contact Agent View Phone No. Share Feedback Home Hunt Has Maximum Property Options Is the Top Agent of the Locality Is Trusted by All Users 4 Property Options in Chhattarpur CRISIL Rating Operating Since 2011 No of employees 5 Home Hunt Certified Agent Locality Superstar Chhattarpur 500+ Buyers Served\"\n",
      " 'JVTS Gardens, Chhattarpur' 'Chhattarpur Enclave Phase2'\n",
      " 'DLF Chattarpur Farms, Chhattarpur' 'Aravali Tower, Chhattarpur'\n",
      " 'Mehrauli'\n",
      " 'Mehrauli carpet area 1300 sqft status Ready to Move floor 2 out of 4 floors transaction New Property furnishing Semi-Furnished facing East overlooking Garden/Park, Main Road car parking 2 Covered bathroom 3 balcony 2 ownership Freehold 3 bhk flat with attached washroom, modular kitchen, IInd floor, one car and one bike parking, lift, gated society, security, cctv camera, water backup. read more Contact Agent View Phone No. Share Feedback Agent India Bhoomi'\n",
      " 'Andheria Mor, Mehrauli'\n",
      " 'Mehrauli carpet area 1250 sqft status Ready to Move floor Ground out of 8 floors transaction Resale furnishing Semi-Furnished facing East overlooking Main Road car parking 1 Covered bathroom 2 balcony 3 ownership Freehold The flat located are very good condition and well developed area. The flat area are very spaciable. This flat balcony view is very best society very neat and clean. read more Contact Agent View Phone No. Share Feedback Agent Bharti Real Estate 100+ Buyers Served'\n",
      " 'Brijwasi Colony, Mehrauli' 'Mahavir Enclave' 'Mahavir Enclave Part 1'\n",
      " 'Mahavir Enclave Part 1 carpet area 1000 sqft status Ready to Move floor 2 out of 4 floors transaction Resale furnishing Semi-Furnished facing East car parking 1 Covered bathroom 2 balcony 2 East Facing Property this property is for sale purpose.......................... Contact Owner View Phone No. Share Feedback Owner Twinkle Sudan'\n",
      " 'Mahavir Enclave carpet area 565 sqft status Ready to Move floor Ground out of 1 floor transaction Resale furnishing Unfurnished facing East car parking 1 Covered bathroom 2 balcony 1 ownership Freehold East Facing Property This Freehold Builder Floor Apartment is located at Ground floor in a building of total 1 floors. The age of construction for this apartment Builder Floor Apartment is Less than 5 years. High quality flooring of types Granite are available in different rooms. read more Contact Owner View Phone No. Share Feedback Owner Adesh Sah'\n",
      " 'Mahavir Enclave Part 3' 'Vijay Enclave, Mahavir Enclave'\n",
      " 'Narela Sector A1 carpet area 42 sqyrd status Ready to Move floor Ground out of 5 floors transaction Resale furnishing Unfurnished facing North - East overlooking Garden/Park, Main Road car parking 2 Open bathroom 2 balcony 2 ownership Freehold Near bawana industrial area and j.j. colony. DDA Housing property LIG FLAT very nice property for single family 200 hundreds family already living IN THIS SOCIETY and very piece full atmosphere this society 24 hour guards all facility available read more Contact Owner View Phone No. Share Feedback Owner Vivek Gupta'\n",
      " 'DDA Flats Pocket 6 Sector A10, Narela'\n",
      " 'DDA Flats Pocket 1 Sector A9, Narela'\n",
      " 'DDA Janta Flats, Tikri Khurd Sector B2, Narela' 'Narela'\n",
      " 'DDA Lig Flats, Narela' 'DDA Flats Pocket 3, Narela'\n",
      " 'DDA Pocket H, Narela' 'Narela Mandi' 'Bhorgarh, Narela'\n",
      " 'Narela Sector A9' 'Narela Sector A5' 'Malviya Nagar'\n",
      " 'Shivalik, Malviya Nagar' 'Geetanjali Enclave, Malviya Nagar'\n",
      " 'Geetanjali Enclave Project, Geetanjali Enclave, Malviya Nagar'\n",
      " 'Khirki extension, Malviya Nagar'\n",
      " \"Malviya Nagar carpet area 100 sqyrd status Ready to Move floor 2 out of 3 floors transaction Resale furnishing Semi-Furnished facing North overlooking Garden/Park, Main Road car parking 2 Open bathroom 3 balcony 2 ownership Freehold It's a Corner three story building, located in South Delhi. Amenities like Market, Schools, Hospitals, Parks, Gyms, Study Centers, Temple are all around. Very Close to Malviya Nagar Metro and Haus Khas Metro Station. Centerlize place to live. Whether you go to Gurgaon or Noida Or to other parts of the city, commuting from here is very easy. read more Contact Owner View Phone No. Share Feedback Owner Rohit\"\n",
      " 'Dilshad Colony, Dilshad Garden'\n",
      " 'Guru Teg Bahadur Enclave, Dilshad Garden'\n",
      " 'Dilshad Garden carpet area 1500 sqft status Ready to Move floor 2 out of 4 floors transaction Resale furnishing Unfurnished bathroom 1 balcony 2 Mig dda flat located at a very prime location near to market, school, hospital, metro station etc. Contact Owner View Phone No. Share Feedback Owner R'\n",
      " 'DDA Flats Block A, Dilshad Garden' 'Dilshad Garden'\n",
      " 'DDA Pocket JK, Dilshad Garden' 'DDA Pocket E, Dilshad Garden'\n",
      " 'DDA Flats Pocket O, Dilshad Garden' 'DDA Pocket I, Dilshad Garden'\n",
      " 'Vasundhara Enclave' 'Samrat Apartment, Vasundhara Enclave'\n",
      " 'Mangal Apartment, Vasundhara Enclave carpet area 1600 sqft status Ready to Move floor 4 out of 7 floors transaction Resale furnishing Furnished facing South - East overlooking Garden/Park, Main Road society Mangal Apartment car parking 1 Open bathroom 3 balcony 1 ownership Freehold Fully furnished , complete marble flooring, ready to move in. Contact Owner View Phone No. Share Feedback Owner Shailendra'\n",
      " 'Prayag Apartments, Vasundhara Enclave carpet area 900 sqft status Ready to Move floor 2 out of 4 floors transaction Resale furnishing Semi-Furnished overlooking Garden/Park, Main Road society Prayag Apartments car parking 1 Open bathroom 2 balcony 2 ownership Freehold This is 2 BHK apartment , with 2 Bathroom and one parking.This is East facing Flat.Near Metro Station is Ashok Nagar read more Contact Owner View Phone No. Share Feedback Owner Sameer Kumar'\n",
      " 'Abhimanyu Apartments, Vasundhara Enclave'\n",
      " 'Fancy Apartments, Vasundhara Enclave'\n",
      " 'Shantidoot Apartment, Vasundhara Enclave'\n",
      " 'Mangal Apartment, Vasundhara Enclave'\n",
      " 'Satyam Apartment, Vasundhara Enclave'\n",
      " 'Anekant Apartment, Vasundhara Enclave'\n",
      " 'New Delhi Apartment, Vasundhara Enclave'\n",
      " 'Mahesh Apartment, Vasundhara Enclave'\n",
      " 'Pawittra Apartment, Vasundhara Enclave'\n",
      " 'Capital Apartment, Vasundhara Enclave'\n",
      " 'Hindon Apartment, Vasundhara Enclave'\n",
      " 'Gobind Apartment, Vasundhara Enclave' 'Abul Fazal Enclave Part 1, Okhla'\n",
      " 'Godrej South Estate, Okhla Phase 1' 'Abul Fazal Enclave Part-II, Okhla'\n",
      " 'Jamia Nagar, Okhla' 'Zakir Nagar, New Friends Colony'\n",
      " 'Batla House Project, Batla House, Okhla' 'Dev Nagar, Karol Bagh'\n",
      " 'Beadon Pura, Karol Bagh How Auctions work? The borrower has the physical possession of the Property. However the lender (Bank) can legally sell the Property. carpet area 148 sqyrd status Ready to Move floor 3 out of 3 floors transaction Resale furnishing Semi-Furnished bathroom 2 balcony 3 ownership Freehold Contact Now Enquire Now Auction By Bank'\n",
      " 'DDA Mig Flat, Prasad Nagar, Karol Bagh' 'Karol Bagh'\n",
      " 'Prasad Nagar, Karol Bagh'\n",
      " 'DDA MIG Flats Prasad Nagar Phase 2, Prasad Nagar, Karol Bagh'\n",
      " 'Karol Bagh carpet area 1600 sqft status Ready to Move floor 3 out of 3 floors transaction New Property furnishing Semi-Furnished facing East overlooking Garden/Park, Main Road car parking 1 Covered, 1 Open bathroom 3 balcony 2 ownership Freehold Near to Karol Bagh Metro station...................................... Its a very peaceful location ....................................................................................................................... read more Contact Agent View Phone No. Share Feedback Agent S R B Properties'\n",
      " 'DLF Capital Greens, Moti Nagar, Kirti Nagar ( 1 km from New Moti Nagar, Kirti Nagar)'\n",
      " 'DLF Capital Greens, New Moti Nagar, Kirti Nagar'\n",
      " 'New Moti Nagar, Kirti Nagar' 'Sheikh Sarai Phase 1' 'Sheikh Sarai'\n",
      " 'Sheikh Sarai Phase 2' 'Savitri Nagar Village, Sheikh Sarai'\n",
      " 'Panchsheel Vihar, Sheikh Sarai'\n",
      " 'Apna Apartments, Savitri Nagar Village, Sheikh Sarai'\n",
      " 'Punjabi Bagh Enclave, Punjabi Bagh West' 'Punjabi Bagh'\n",
      " 'Punjabi Bagh West' 'Punjabi Bagh Enclave, Shivaji Park, Punjabi Bagh'\n",
      " 'Punjabi Bagh Extension, Punjabi Bagh'\n",
      " 'DLF Capitals Phase III, Shivaji Park, Punjabi Bagh'\n",
      " 'Punjabi Bagh Enclave, Punjabi Bagh'\n",
      " 'Punjabi Bagh Enclave, Madipur, Punjabi Bagh'\n",
      " 'Bhagwan Das Nagar, Punjabi Bagh' 'Punjabi Bagh East'\n",
      " 'Pal Mohan Apartments, Punjabi Bagh' 'Govindpuri Extension, Kalkaji'\n",
      " 'Kalkaji' 'DDA LIG Flat, Kalkaji' 'Giri Nagar, KalkaJi'\n",
      " 'Rishi Apartment, Kalkaji' 'Deshbandhu Apartments, Kalkaji'\n",
      " 'Dda Janta Flats, Kalkaji'\n",
      " 'Kalkaji super area 800 sqft status Ready to Move floor 3 out of 4 floors transaction Resale furnishing Semi-Furnished facing North - West overlooking Garden/Park, Main Road car parking 1 Open bathroom 2 balcony 2 ownership Freehold 2 bhk flat for sale in kalkaji this is third floor with 2 bed room and bathrooms very peace full location and posh. The Summer Fields School is considered as among the best school of New Delhi and is located just beside to this property. Within the range of 4-5km, you will find some of the well-equipped hospitals which include AIMS Hospital and Moolchand Hospital.for more information about this flat please call me feel free. read more Contact Agent View Phone No. Share Feedback Agent Rose Estate 100+ Buyers Served'\n",
      " 'Kalkaji Extention'\n",
      " 'Kalkaji super area 1000 sqft status Ready to Move floor 2 out of 3 floors transaction Resale furnishing Semi-Furnished facing North - West overlooking Garden/Park, Main Road car parking 1 Covered, 1 Open bathroom 2 balcony 2 ownership Freehold Very beautiful 3 bedroom with attached washroom , drawing dining , modular kitchen , ac , servant room , power backup, powder room, separate underground and overhead water tanks, walking distance to market , easy access to ring road . For more details and site visit please contact cosmo properties. read more Contact Agent View Phone No. Share Feedback Agent Zee Associates'\n",
      " 'Mandakini Enclave Project, Kalkaji'\n",
      " 'Deshbandhu Apartments, Kalkaji carpet area 1300 sqft status Ready to Move floor 3 out of 4 floors transaction Resale furnishing Unfurnished facing North - East overlooking Garden/Park, Main Road society Deshbandhu Apartments car parking 1 Covered, 1 Open bathroom 2 balcony 2 ownership Freehold Third Floor with terrace 3 bhk builder floor apartment with 2 attached bathrooms located in kalkaji Deshbandu apartment . all water and electrical connections installed, very spacious drawing room , 2 balconies in front and rear each dedicated parking spot for 1 car. extra parking space available for additional cars, Immediately for sale , read more Contact Agent View Phone No. Share Feedback Agent Bhawani Realtors'\n",
      " 'Hauz Khas' 'Hauz Khas Apartment, Hauz Khas Enclave, Hauz Khas'\n",
      " 'Sarva Priya Apartment, Hauz Khas' 'Hauz Khas Enclave, Hauz Khas'\n",
      " 'Safdarjung Development Area, Hauz Khas' 'Mayfair garden, Hauz Khas'\n",
      " 'Orchid Metropolis, Hauz Khas'\n",
      " 'Sarva Priya Apartment, Hauz Khas carpet area 1700 sqft status Ready to Move floor 1 out of 7 floors transaction Resale furnishing Semi-Furnished facing North - East overlooking Garden/Park society Sarva Priya Apartment car parking 1 Covered, 1 Open bathroom 3 balcony 2 ownership Freehold desperarte sale ,its clear tile, proper cross ventilation ,proper an matter for one week ,crystle sunlight found, and air,ICIC BANK LOAN APPROVAL, good to see , have lucky chance to get such a reraly rare property read more Contact Agent View Phone No. Share Feedback Agent New Capital Properties 1000+ Buyers Served'\n",
      " 'Chittaranjan Park' 'Arya Chittaranjan Park, Chittaranjan Park'\n",
      " 'Chittaranjan Park carpet area 1200 sqft status Ready to Move floor 2 out of 4 floors transaction New Property furnishing Semi-Furnished facing North - East overlooking Garden/Park bathroom 3 balcony 2 ownership Freehold Newly Constructed Property Newly Constructed Property brand new 1st floor 3bedroom attach bathrooms stilt car parking modular kitchen air condition prime location c r park read more Contact Agent View Phone No. Share Feedback Nirmala Associates Certified Agent Trusted by Users Genuine Listings 1500+ Buyers Served'\n",
      " 'Chittaranjan Park carpet area 270 sqyrd status Ready to Move floor 2 out of 4 floors transaction Resale furnishing Furnished facing North - East overlooking Garden/Park, Main Road car parking 5 Open bathroom 4 balcony 3 ownership Freehold 3 Side Open, Fully ventilated, Close to Market, Above Bank and 24 x 7 ATM because of which good security. Elite Neighbor hood. Very good for Rental Income. Also can be used for commercial Office Purpose by Advocates. read more Contact Owner View Phone No. Share Feedback Owner Mayur Mayur Aggarwal'\n",
      " 'Nehru Enclave, Kalkaji' 'Chittaranjan Park Block A'] ------------- 365\n",
      "Status ------- ['Ready_to_move' 'Almost_ready'] ------------- 2\n",
      "Transaction ------- ['New_Property' 'Resale'] ------------- 2\n",
      "Type ------- ['Builder_Floor' 'Apartment'] ------------- 2\n"
     ]
    }
   ],
   "source": [
    "for i in df.select_dtypes(include=\"object\").columns:\n",
    "    print(i,\"-------\",df[i].unique(),\"-------------\",df[i].nunique())"
   ]
  },
  {
   "cell_type": "markdown",
   "id": "3cf38327",
   "metadata": {},
   "source": [
    "#### Dropping irrelevant columns"
   ]
  },
  {
   "cell_type": "code",
   "execution_count": 11,
   "id": "7f07447a",
   "metadata": {},
   "outputs": [],
   "source": [
    "df.drop(columns=[\"Locality\"],inplace=True)"
   ]
  },
  {
   "cell_type": "code",
   "execution_count": 12,
   "id": "f205d7f2",
   "metadata": {},
   "outputs": [
    {
     "name": "stdout",
     "output_type": "stream",
     "text": [
      "Furnishing ------- ['Semi-Furnished' 'Furnished' 'Unfurnished'] ------------- 3\n",
      "Status ------- ['Ready_to_move' 'Almost_ready'] ------------- 2\n",
      "Transaction ------- ['New_Property' 'Resale'] ------------- 2\n",
      "Type ------- ['Builder_Floor' 'Apartment'] ------------- 2\n"
     ]
    }
   ],
   "source": [
    "for i in df.select_dtypes(include=\"object\").columns:\n",
    "    print(i,\"-------\",df[i].unique(),\"-------------\",df[i].nunique())"
   ]
  },
  {
   "cell_type": "markdown",
   "id": "d1f5e982",
   "metadata": {},
   "source": [
    "#### Encoding"
   ]
  },
  {
   "cell_type": "code",
   "execution_count": 13,
   "id": "a398df75",
   "metadata": {},
   "outputs": [],
   "source": [
    "le=LabelEncoder()"
   ]
  },
  {
   "cell_type": "code",
   "execution_count": 14,
   "id": "57455957",
   "metadata": {},
   "outputs": [],
   "source": [
    "df[\"Furnishing\"]=le.fit_transform(df[\"Furnishing\"])"
   ]
  },
  {
   "cell_type": "code",
   "execution_count": 15,
   "id": "8688f6db",
   "metadata": {},
   "outputs": [
    {
     "data": {
      "text/html": [
       "<div>\n",
       "<style scoped>\n",
       "    .dataframe tbody tr th:only-of-type {\n",
       "        vertical-align: middle;\n",
       "    }\n",
       "\n",
       "    .dataframe tbody tr th {\n",
       "        vertical-align: top;\n",
       "    }\n",
       "\n",
       "    .dataframe thead th {\n",
       "        text-align: right;\n",
       "    }\n",
       "</style>\n",
       "<table border=\"1\" class=\"dataframe\">\n",
       "  <thead>\n",
       "    <tr style=\"text-align: right;\">\n",
       "      <th></th>\n",
       "      <th>Area</th>\n",
       "      <th>BHK</th>\n",
       "      <th>Bathroom</th>\n",
       "      <th>Furnishing</th>\n",
       "      <th>Parking</th>\n",
       "      <th>Price</th>\n",
       "      <th>Status</th>\n",
       "      <th>Transaction</th>\n",
       "      <th>Type</th>\n",
       "      <th>Per_Sqft</th>\n",
       "    </tr>\n",
       "  </thead>\n",
       "  <tbody>\n",
       "    <tr>\n",
       "      <th>0</th>\n",
       "      <td>800.0</td>\n",
       "      <td>3</td>\n",
       "      <td>2.0</td>\n",
       "      <td>1</td>\n",
       "      <td>1.0</td>\n",
       "      <td>6500000</td>\n",
       "      <td>Ready_to_move</td>\n",
       "      <td>New_Property</td>\n",
       "      <td>Builder_Floor</td>\n",
       "      <td>15690.136542</td>\n",
       "    </tr>\n",
       "    <tr>\n",
       "      <th>1</th>\n",
       "      <td>750.0</td>\n",
       "      <td>2</td>\n",
       "      <td>2.0</td>\n",
       "      <td>1</td>\n",
       "      <td>1.0</td>\n",
       "      <td>5000000</td>\n",
       "      <td>Ready_to_move</td>\n",
       "      <td>New_Property</td>\n",
       "      <td>Apartment</td>\n",
       "      <td>6667.000000</td>\n",
       "    </tr>\n",
       "    <tr>\n",
       "      <th>2</th>\n",
       "      <td>950.0</td>\n",
       "      <td>2</td>\n",
       "      <td>2.0</td>\n",
       "      <td>0</td>\n",
       "      <td>1.0</td>\n",
       "      <td>15500000</td>\n",
       "      <td>Ready_to_move</td>\n",
       "      <td>Resale</td>\n",
       "      <td>Apartment</td>\n",
       "      <td>6667.000000</td>\n",
       "    </tr>\n",
       "    <tr>\n",
       "      <th>3</th>\n",
       "      <td>600.0</td>\n",
       "      <td>2</td>\n",
       "      <td>2.0</td>\n",
       "      <td>1</td>\n",
       "      <td>1.0</td>\n",
       "      <td>4200000</td>\n",
       "      <td>Ready_to_move</td>\n",
       "      <td>Resale</td>\n",
       "      <td>Builder_Floor</td>\n",
       "      <td>6667.000000</td>\n",
       "    </tr>\n",
       "    <tr>\n",
       "      <th>4</th>\n",
       "      <td>650.0</td>\n",
       "      <td>2</td>\n",
       "      <td>2.0</td>\n",
       "      <td>1</td>\n",
       "      <td>1.0</td>\n",
       "      <td>6200000</td>\n",
       "      <td>Ready_to_move</td>\n",
       "      <td>New_Property</td>\n",
       "      <td>Builder_Floor</td>\n",
       "      <td>6667.000000</td>\n",
       "    </tr>\n",
       "  </tbody>\n",
       "</table>\n",
       "</div>"
      ],
      "text/plain": [
       "    Area  BHK  Bathroom  Furnishing  Parking     Price         Status  \\\n",
       "0  800.0    3       2.0           1      1.0   6500000  Ready_to_move   \n",
       "1  750.0    2       2.0           1      1.0   5000000  Ready_to_move   \n",
       "2  950.0    2       2.0           0      1.0  15500000  Ready_to_move   \n",
       "3  600.0    2       2.0           1      1.0   4200000  Ready_to_move   \n",
       "4  650.0    2       2.0           1      1.0   6200000  Ready_to_move   \n",
       "\n",
       "    Transaction           Type      Per_Sqft  \n",
       "0  New_Property  Builder_Floor  15690.136542  \n",
       "1  New_Property      Apartment   6667.000000  \n",
       "2        Resale      Apartment   6667.000000  \n",
       "3        Resale  Builder_Floor   6667.000000  \n",
       "4  New_Property  Builder_Floor   6667.000000  "
      ]
     },
     "execution_count": 15,
     "metadata": {},
     "output_type": "execute_result"
    }
   ],
   "source": [
    "df.head()"
   ]
  },
  {
   "cell_type": "code",
   "execution_count": 16,
   "id": "887c885e",
   "metadata": {},
   "outputs": [],
   "source": [
    "df=pd.get_dummies(columns=[\"Status\",\"Transaction\",\"Type\"],drop_first=True,data=df)"
   ]
  },
  {
   "cell_type": "code",
   "execution_count": 17,
   "id": "254ad8bc",
   "metadata": {},
   "outputs": [
    {
     "data": {
      "text/html": [
       "<div>\n",
       "<style scoped>\n",
       "    .dataframe tbody tr th:only-of-type {\n",
       "        vertical-align: middle;\n",
       "    }\n",
       "\n",
       "    .dataframe tbody tr th {\n",
       "        vertical-align: top;\n",
       "    }\n",
       "\n",
       "    .dataframe thead th {\n",
       "        text-align: right;\n",
       "    }\n",
       "</style>\n",
       "<table border=\"1\" class=\"dataframe\">\n",
       "  <thead>\n",
       "    <tr style=\"text-align: right;\">\n",
       "      <th></th>\n",
       "      <th>Area</th>\n",
       "      <th>BHK</th>\n",
       "      <th>Bathroom</th>\n",
       "      <th>Furnishing</th>\n",
       "      <th>Parking</th>\n",
       "      <th>Price</th>\n",
       "      <th>Per_Sqft</th>\n",
       "      <th>Status_Ready_to_move</th>\n",
       "      <th>Transaction_Resale</th>\n",
       "      <th>Type_Builder_Floor</th>\n",
       "    </tr>\n",
       "  </thead>\n",
       "  <tbody>\n",
       "    <tr>\n",
       "      <th>0</th>\n",
       "      <td>800.0</td>\n",
       "      <td>3</td>\n",
       "      <td>2.0</td>\n",
       "      <td>1</td>\n",
       "      <td>1.0</td>\n",
       "      <td>6500000</td>\n",
       "      <td>15690.136542</td>\n",
       "      <td>1</td>\n",
       "      <td>0</td>\n",
       "      <td>1</td>\n",
       "    </tr>\n",
       "    <tr>\n",
       "      <th>1</th>\n",
       "      <td>750.0</td>\n",
       "      <td>2</td>\n",
       "      <td>2.0</td>\n",
       "      <td>1</td>\n",
       "      <td>1.0</td>\n",
       "      <td>5000000</td>\n",
       "      <td>6667.000000</td>\n",
       "      <td>1</td>\n",
       "      <td>0</td>\n",
       "      <td>0</td>\n",
       "    </tr>\n",
       "    <tr>\n",
       "      <th>2</th>\n",
       "      <td>950.0</td>\n",
       "      <td>2</td>\n",
       "      <td>2.0</td>\n",
       "      <td>0</td>\n",
       "      <td>1.0</td>\n",
       "      <td>15500000</td>\n",
       "      <td>6667.000000</td>\n",
       "      <td>1</td>\n",
       "      <td>1</td>\n",
       "      <td>0</td>\n",
       "    </tr>\n",
       "    <tr>\n",
       "      <th>3</th>\n",
       "      <td>600.0</td>\n",
       "      <td>2</td>\n",
       "      <td>2.0</td>\n",
       "      <td>1</td>\n",
       "      <td>1.0</td>\n",
       "      <td>4200000</td>\n",
       "      <td>6667.000000</td>\n",
       "      <td>1</td>\n",
       "      <td>1</td>\n",
       "      <td>1</td>\n",
       "    </tr>\n",
       "    <tr>\n",
       "      <th>4</th>\n",
       "      <td>650.0</td>\n",
       "      <td>2</td>\n",
       "      <td>2.0</td>\n",
       "      <td>1</td>\n",
       "      <td>1.0</td>\n",
       "      <td>6200000</td>\n",
       "      <td>6667.000000</td>\n",
       "      <td>1</td>\n",
       "      <td>0</td>\n",
       "      <td>1</td>\n",
       "    </tr>\n",
       "  </tbody>\n",
       "</table>\n",
       "</div>"
      ],
      "text/plain": [
       "    Area  BHK  Bathroom  Furnishing  Parking     Price      Per_Sqft  \\\n",
       "0  800.0    3       2.0           1      1.0   6500000  15690.136542   \n",
       "1  750.0    2       2.0           1      1.0   5000000   6667.000000   \n",
       "2  950.0    2       2.0           0      1.0  15500000   6667.000000   \n",
       "3  600.0    2       2.0           1      1.0   4200000   6667.000000   \n",
       "4  650.0    2       2.0           1      1.0   6200000   6667.000000   \n",
       "\n",
       "   Status_Ready_to_move  Transaction_Resale  Type_Builder_Floor  \n",
       "0                     1                   0                   1  \n",
       "1                     1                   0                   0  \n",
       "2                     1                   1                   0  \n",
       "3                     1                   1                   1  \n",
       "4                     1                   0                   1  "
      ]
     },
     "execution_count": 17,
     "metadata": {},
     "output_type": "execute_result"
    }
   ],
   "source": [
    "df.head()"
   ]
  },
  {
   "cell_type": "code",
   "execution_count": 18,
   "id": "dba55da9",
   "metadata": {},
   "outputs": [],
   "source": [
    "import seaborn as sns"
   ]
  },
  {
   "cell_type": "code",
   "execution_count": 19,
   "id": "35bd3bef",
   "metadata": {},
   "outputs": [
    {
     "data": {
      "text/plain": [
       "<AxesSubplot:>"
      ]
     },
     "execution_count": 19,
     "metadata": {},
     "output_type": "execute_result"
    },
    {
     "data": {
      "image/png": "[encoded data removed]",
      "text/plain": [
       "<Figure size 432x288 with 2 Axes>"
      ]
     },
     "metadata": {
      "needs_background": "light"
     },
     "output_type": "display_data"
    }
   ],
   "source": [
    "numeric=[float,int]\n",
    "df_numeric=df.select_dtypes(include=numeric)\n",
    "sns.heatmap(df_numeric.corr().T,annot=True)"
   ]
  },
  {
   "cell_type": "markdown",
   "id": "e0779ec7",
   "metadata": {},
   "source": [
    "#### Seggregate X and Y"
   ]
  },
  {
   "cell_type": "code",
   "execution_count": 20,
   "id": "6708f15b",
   "metadata": {},
   "outputs": [],
   "source": [
    "x=df.drop(columns=\"Price\")\n",
    "y=df[\"Price\"]"
   ]
  },
  {
   "cell_type": "markdown",
   "id": "d754a934",
   "metadata": {},
   "source": [
    "#### Dividing the data set into train and test"
   ]
  },
  {
   "cell_type": "code",
   "execution_count": 21,
   "id": "aaca6cb7",
   "metadata": {},
   "outputs": [],
   "source": [
    "x_train,x_test,y_train,y_test=train_test_split(x,y,test_size=0.25,random_state=42)"
   ]
  },
  {
   "cell_type": "markdown",
   "id": "5e8a370a",
   "metadata": {},
   "source": [
    "#### Getting shape of train and test Data"
   ]
  },
  {
   "cell_type": "code",
   "execution_count": 22,
   "id": "cc0eaf60",
   "metadata": {},
   "outputs": [
    {
     "name": "stdout",
     "output_type": "stream",
     "text": [
      "(944, 9)\n",
      "(944,)\n",
      "(315, 9)\n",
      "(315,)\n"
     ]
    }
   ],
   "source": [
    "print(x_train.shape)\n",
    "print(y_train.shape)\n",
    "print(x_test.shape)\n",
    "print(y_test.shape)"
   ]
  },
  {
   "cell_type": "code",
   "execution_count": 23,
   "id": "90c8b3ef",
   "metadata": {},
   "outputs": [
    {
     "data": {
      "text/plain": [
       "GradientBoostingRegressor()"
      ]
     },
     "execution_count": 23,
     "metadata": {},
     "output_type": "execute_result"
    }
   ],
   "source": [
    "gbr=GradientBoostingRegressor() \n",
    "gbr.fit(x_train,y_train)"
   ]
  },
  {
   "cell_type": "markdown",
   "id": "e6cf7760",
   "metadata": {},
   "source": [
    "#### Prediction"
   ]
  },
  {
   "cell_type": "code",
   "execution_count": 24,
   "id": "3b8bb700",
   "metadata": {},
   "outputs": [],
   "source": [
    "y_pred=gbr.predict(x_test)"
   ]
  },
  {
   "cell_type": "markdown",
   "id": "71ddd2a5",
   "metadata": {},
   "source": [
    "#### Accuracy on Test"
   ]
  },
  {
   "cell_type": "code",
   "execution_count": 25,
   "id": "55f48213",
   "metadata": {},
   "outputs": [
    {
     "data": {
      "text/plain": [
       "0.8555569091602518"
      ]
     },
     "execution_count": 25,
     "metadata": {},
     "output_type": "execute_result"
    }
   ],
   "source": [
    "r2(y_test,y_pred)"
   ]
  },
  {
   "cell_type": "markdown",
   "id": "8ca8d8a3",
   "metadata": {},
   "source": [
    "#### Accuracy on training"
   ]
  },
  {
   "cell_type": "code",
   "execution_count": 26,
   "id": "e372dcc4",
   "metadata": {},
   "outputs": [],
   "source": [
    "y_pred_train=gbr.predict(x_train)"
   ]
  },
  {
   "cell_type": "code",
   "execution_count": 27,
   "id": "77934915",
   "metadata": {},
   "outputs": [
    {
     "data": {
      "text/plain": [
       "0.9413921842313282"
      ]
     },
     "execution_count": 27,
     "metadata": {},
     "output_type": "execute_result"
    }
   ],
   "source": [
    "r2(y_train,y_pred_train)"
   ]
  },
  {
   "cell_type": "markdown",
   "id": "182d5fd9",
   "metadata": {},
   "source": [
    "####  hyperparameter Tuning"
   ]
  },
  {
   "cell_type": "markdown",
   "id": "22fedc04",
   "metadata": {},
   "source": [
    "#### Seeing combination of hyperparameters by grid_search"
   ]
  },
  {
   "cell_type": "code",
   "execution_count": 44,
   "id": "6d73f0fa",
   "metadata": {},
   "outputs": [],
   "source": [
    "grid_param = {\n",
    "    'n_estimators': [10,50,100,500,200],\n",
    "    'learning_rate' : [0.0001,0.01,0.001,1.0]\n",
    "   }"
   ]
  },
  {
   "cell_type": "code",
   "execution_count": 45,
   "id": "c606ec48",
   "metadata": {},
   "outputs": [],
   "source": [
    "grid_search = GridSearchCV(estimator=GradientBoostingRegressor(),\n",
    "                     param_grid=grid_param,\n",
    "                    n_jobs =-1,cv=10,scoring=\"r2\") \n"
   ]
  },
  {
   "cell_type": "code",
   "execution_count": 46,
   "id": "701ea0e7",
   "metadata": {},
   "outputs": [
    {
     "data": {
      "text/plain": [
       "GridSearchCV(cv=10, estimator=GradientBoostingRegressor(), n_jobs=-1,\n",
       "             param_grid={'learning_rate': [0.0001, 0.01, 0.001, 1.0],\n",
       "                         'n_estimators': [10, 50, 100, 500, 200]},\n",
       "             scoring='r2')"
      ]
     },
     "execution_count": 46,
     "metadata": {},
     "output_type": "execute_result"
    }
   ],
   "source": [
    "grid_search.fit(x_train,y_train)"
   ]
  },
  {
   "cell_type": "code",
   "execution_count": 47,
   "id": "32f5096d",
   "metadata": {},
   "outputs": [
    {
     "name": "stdout",
     "output_type": "stream",
     "text": [
      "{'learning_rate': 0.01, 'n_estimators': 500}\n"
     ]
    }
   ],
   "source": [
    "best_parameters = grid_search.best_params_\n",
    "print(best_parameters)"
   ]
  },
  {
   "cell_type": "code",
   "execution_count": 48,
   "id": "2a92f003",
   "metadata": {},
   "outputs": [
    {
     "data": {
      "text/plain": [
       "0.7519037721903816"
      ]
     },
     "execution_count": 48,
     "metadata": {},
     "output_type": "execute_result"
    }
   ],
   "source": [
    "grid_search.best_score_  ## accuracy on training"
   ]
  },
  {
   "cell_type": "code",
   "execution_count": 49,
   "id": "54e5e97c",
   "metadata": {},
   "outputs": [],
   "source": [
    "gbr_h = GradientBoostingRegressor(**best_parameters)    "
   ]
  },
  {
   "cell_type": "code",
   "execution_count": 50,
   "id": "3f67c055",
   "metadata": {},
   "outputs": [
    {
     "data": {
      "text/plain": [
       "GradientBoostingRegressor(learning_rate=0.01, n_estimators=500)"
      ]
     },
     "execution_count": 50,
     "metadata": {},
     "output_type": "execute_result"
    }
   ],
   "source": [
    "gbr_h.fit(x_train,y_train)"
   ]
  },
  {
   "cell_type": "code",
   "execution_count": 51,
   "id": "b05aa760",
   "metadata": {},
   "outputs": [],
   "source": [
    "y_pred=gbr_h.predict(x_test)"
   ]
  },
  {
   "cell_type": "code",
   "execution_count": 52,
   "id": "9bc2e357",
   "metadata": {},
   "outputs": [
    {
     "data": {
      "text/plain": [
       "0.8265628873029456"
      ]
     },
     "execution_count": 52,
     "metadata": {},
     "output_type": "execute_result"
    }
   ],
   "source": [
    "r2(y_test,y_pred)"
   ]
  },
  {
   "cell_type": "code",
   "execution_count": 53,
   "id": "57684dd9",
   "metadata": {},
   "outputs": [],
   "source": [
    "sc=StandardScaler()\n",
    "x_scaled=sc.fit_transform(x)"
   ]
  },
  {
   "cell_type": "code",
   "execution_count": 54,
   "id": "301733ba",
   "metadata": {},
   "outputs": [],
   "source": [
    "x_train,x_test,y_train,y_test=train_test_split(x_scaled,y,random_state=42)"
   ]
  },
  {
   "cell_type": "code",
   "execution_count": 57,
   "id": "c9572a8b",
   "metadata": {},
   "outputs": [
    {
     "data": {
      "text/plain": [
       "LinearRegression()"
      ]
     },
     "execution_count": 57,
     "metadata": {},
     "output_type": "execute_result"
    }
   ],
   "source": [
    "lr=LinearRegression()\n",
    "lr.fit(x_train,y_train)"
   ]
  },
  {
   "cell_type": "code",
   "execution_count": 58,
   "id": "8f8306fd",
   "metadata": {},
   "outputs": [
    {
     "data": {
      "text/plain": [
       "0.5729286999719425"
      ]
     },
     "execution_count": 58,
     "metadata": {},
     "output_type": "execute_result"
    }
   ],
   "source": [
    "y_pred=lr.predict(x_test)\n",
    "r2(y_test,y_pred)"
   ]
  },
  {
   "cell_type": "markdown",
   "id": "8d5205fe",
   "metadata": {},
   "source": [
    "- Worst performance by linear regression as data is not linear.\n",
    "- Ensemble Technique will give the best result."
   ]
  },
  {
   "cell_type": "markdown",
   "id": "99556e4c",
   "metadata": {},
   "source": [
    "## XGBOOST"
   ]
  },
  {
   "cell_type": "code",
   "execution_count": null,
   "id": "5a0c374d",
   "metadata": {},
   "outputs": [],
   "source": []
  },
  {
   "cell_type": "code",
   "execution_count": null,
   "id": "d1c9d5e3",
   "metadata": {},
   "outputs": [],
   "source": []
  },
  {
   "cell_type": "code",
   "execution_count": null,
   "id": "b653289f",
   "metadata": {},
   "outputs": [],
   "source": []
  },
  {
   "cell_type": "code",
   "execution_count": null,
   "id": "3a6db279",
   "metadata": {},
   "outputs": [],
   "source": []
  },
  {
   "cell_type": "code",
   "execution_count": null,
   "id": "d71e7db0",
   "metadata": {},
   "outputs": [],
   "source": []
  },
  {
   "cell_type": "code",
   "execution_count": null,
   "id": "dfa1153a",
   "metadata": {},
   "outputs": [],
   "source": []
  },
  {
   "cell_type": "code",
   "execution_count": null,
   "id": "2a3caacc",
   "metadata": {},
   "outputs": [],
   "source": []
  },
  {
   "cell_type": "code",
   "execution_count": null,
   "id": "837a2aa7",
   "metadata": {},
   "outputs": [],
   "source": []
  },
  {
   "cell_type": "code",
   "execution_count": null,
   "id": "808a2a05",
   "metadata": {},
   "outputs": [],
   "source": []
  }
 ],
 "metadata": {
  "kernelspec": {
   "display_name": "Python 3 (ipykernel)",
   "language": "python",
   "name": "python3"
  },
  "language_info": {
   "codemirror_mode": {
    "name": "ipython",
    "version": 3
   },
   "file_extension": ".py",
   "mimetype": "text/x-python",
   "name": "python",
   "nbconvert_exporter": "python",
   "pygments_lexer": "ipython3",
   "version": "3.9.12"
  }
 },
 "nbformat": 4,
 "nbformat_minor": 5
}

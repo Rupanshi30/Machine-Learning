
{
 "cells": [
  {
   "cell_type": "code",
   "execution_count": 1,
   "id": "f2a8d5dd",
   "metadata": {},
   "outputs": [],
   "source": [
    "import numpy as np\n",
    "import pandas as pd\n",
    "import matplotlib.pyplot as plt\n",
    "from scipy import stats as st\n",
    "from sklearn.model_selection import train_test_split\n",
    "from sklearn.linear_model import LinearRegression\n",
    "\n",
    "import seaborn as sns\n",
    "import pylab\n",
    "from sklearn.preprocessing import StandardScaler\n",
    "from sklearn.metrics import mean_squared_error as mse, mean_absolute_error as mae,r2_score"
   ]
  },
  {
   "cell_type": "code",
   "execution_count": 2,
   "id": "5fa2cbc7",
   "metadata": {},
   "outputs": [
    {
     "data": {
      "text/html": [
       "<div>\n",
       "<style scoped>\n",
       "    .dataframe tbody tr th:only-of-type {\n",
       "        vertical-align: middle;\n",
       "    }\n",
       "\n",
       "    .dataframe tbody tr th {\n",
       "        vertical-align: top;\n",
       "    }\n",
       "\n",
       "    .dataframe thead th {\n",
       "        text-align: right;\n",
       "    }\n",
       "</style>\n",
       "<table border=\"1\" class=\"dataframe\">\n",
       "  <thead>\n",
       "    <tr style=\"text-align: right;\">\n",
       "      <th></th>\n",
       "      <th>cgpa</th>\n",
       "      <th>package</th>\n",
       "    </tr>\n",
       "  </thead>\n",
       "  <tbody>\n",
       "    <tr>\n",
       "      <th>0</th>\n",
       "      <td>6.89</td>\n",
       "      <td>3.26</td>\n",
       "    </tr>\n",
       "    <tr>\n",
       "      <th>1</th>\n",
       "      <td>5.12</td>\n",
       "      <td>1.98</td>\n",
       "    </tr>\n",
       "    <tr>\n",
       "      <th>2</th>\n",
       "      <td>7.82</td>\n",
       "      <td>3.25</td>\n",
       "    </tr>\n",
       "    <tr>\n",
       "      <th>3</th>\n",
       "      <td>7.42</td>\n",
       "      <td>3.67</td>\n",
       "    </tr>\n",
       "    <tr>\n",
       "      <th>4</th>\n",
       "      <td>6.94</td>\n",
       "      <td>3.57</td>\n",
       "    </tr>\n",
       "    <tr>\n",
       "      <th>...</th>\n",
       "      <td>...</td>\n",
       "      <td>...</td>\n",
       "    </tr>\n",
       "    <tr>\n",
       "      <th>195</th>\n",
       "      <td>6.93</td>\n",
       "      <td>2.46</td>\n",
       "    </tr>\n",
       "    <tr>\n",
       "      <th>196</th>\n",
       "      <td>5.89</td>\n",
       "      <td>2.57</td>\n",
       "    </tr>\n",
       "    <tr>\n",
       "      <th>197</th>\n",
       "      <td>7.21</td>\n",
       "      <td>3.24</td>\n",
       "    </tr>\n",
       "    <tr>\n",
       "      <th>198</th>\n",
       "      <td>7.63</td>\n",
       "      <td>3.96</td>\n",
       "    </tr>\n",
       "    <tr>\n",
       "      <th>199</th>\n",
       "      <td>6.22</td>\n",
       "      <td>2.33</td>\n",
       "    </tr>\n",
       "  </tbody>\n",
       "</table>\n",
       "<p>200 rows × 2 columns</p>\n",
       "</div>"
      ],
      "text/plain": [
       "     cgpa  package\n",
       "0    6.89     3.26\n",
       "1    5.12     1.98\n",
       "2    7.82     3.25\n",
       "3    7.42     3.67\n",
       "4    6.94     3.57\n",
       "..    ...      ...\n",
       "195  6.93     2.46\n",
       "196  5.89     2.57\n",
       "197  7.21     3.24\n",
       "198  7.63     3.96\n",
       "199  6.22     2.33\n",
       "\n",
       "[200 rows x 2 columns]"
      ]
     },
     "execution_count": 2,
     "metadata": {},
     "output_type": "execute_result"
    }
   ],
   "source": [
    "df=pd.read_csv(\"C:\\\\Users\\\\rupan\\\\Downloads\\\\placement.csv\")\n",
    "df"
   ]
  },
  {
   "cell_type": "code",
   "execution_count": 3,
   "id": "036e38f2",
   "metadata": {},
   "outputs": [],
   "source": [
    "x=df[[\"cgpa\"]]\n",
    "y=df[\"package\"]"
   ]
  },
  {
   "cell_type": "code",
   "execution_count": 5,
   "id": "2478ea5e",
   "metadata": {},
   "outputs": [],
   "source": [
    "st=StandardScaler()\n",
    "x_scaled=st.fit_transform(x)"
   ]
  },
  {
   "cell_type": "code",
   "execution_count": 6,
   "id": "a233b130",
   "metadata": {},
   "outputs": [],
   "source": [
    "x_train,x_test,y_train,y_test=train_test_split(x_scaled,y,test_size=0.20,random_state=1)"
   ]
  },
  {
   "cell_type": "code",
   "execution_count": 7,
   "id": "16cdcc8e",
   "metadata": {},
   "outputs": [
    {
     "data": {
      "text/plain": [
       "LinearRegression()"
      ]
     },
     "execution_count": 7,
     "metadata": {},
     "output_type": "execute_result"
    }
   ],
   "source": [
    "lr=LinearRegression()\n",
    "lr.fit(x_train,y_train)"
   ]
  },
  {
   "cell_type": "code",
   "execution_count": 8,
   "id": "8fa4831c",
   "metadata": {},
   "outputs": [],
   "source": [
    "y_pred=lr.predict(x_test)"
   ]
  },
  {
   "cell_type": "code",
   "execution_count": 9,
   "id": "52033c17",
   "metadata": {},
   "outputs": [],
   "source": [
    "r2=r2_score(y_test,y_pred)"
   ]
  },
  {
   "cell_type": "code",
   "execution_count": 10,
   "id": "82c0a843",
   "metadata": {},
   "outputs": [
    {
     "data": {
      "text/plain": [
       "0.7283345498058083"
      ]
     },
     "execution_count": 10,
     "metadata": {},
     "output_type": "execute_result"
    }
   ],
   "source": [
    "r2"
   ]
  },
  {
   "cell_type": "code",
   "execution_count": 11,
   "id": "fedc3976",
   "metadata": {},
   "outputs": [
    {
     "data": {
      "text/plain": [
       "0.7211854590112243"
      ]
     },
     "execution_count": 11,
     "metadata": {},
     "output_type": "execute_result"
    }
   ],
   "source": [
    "1-((1-r2)*(40-1)/(40-1-1))  ##for one feature, no insignificant feature\n",
    "## Formula for adjusted r2_score: 1-((1-r2)*(n-1)/(n-p-1), here p=1"
   ]
  },
  {
   "cell_type": "markdown",
   "id": "e51af2d8",
   "metadata": {},
   "source": [
    "#### Most reliable method for insignificant feature is adjusted r2_score"
   ]
  },
  {
   "cell_type": "code",
   "execution_count": 12,
   "id": "08be58a0",
   "metadata": {},
   "outputs": [],
   "source": [
    "temp=np.random.randint(1,50,200)  ## insignificant feature"
   ]
  },
  {
   "cell_type": "code",
   "execution_count": 13,
   "id": "233be0d3",
   "metadata": {},
   "outputs": [
    {
     "data": {
      "text/plain": [
       "array([24, 21, 21,  3, 20, 38, 48, 19, 39,  6, 43, 29,  2,  9, 20,  3, 36,\n",
       "        5,  6, 49, 42, 28,  4, 47, 22,  8, 37,  7, 39, 18, 19, 19,  1, 17,\n",
       "       44, 45,  2,  1, 42, 41, 26,  8,  6, 22,  5, 34, 32, 27, 21,  8, 42,\n",
       "        4, 49, 20,  3, 31, 20, 34, 14, 37, 13, 23, 10, 24, 26, 47, 48, 12,\n",
       "       41, 31, 37, 35, 24, 15, 10, 29, 47, 34, 24, 25, 28, 31, 42, 41, 24,\n",
       "       13,  9, 17,  7, 35,  4, 29, 45, 34, 11, 25, 10, 46, 46, 24, 18, 10,\n",
       "       15, 45, 21, 21,  3, 15, 41, 35, 13, 18, 12, 34, 10, 38, 31, 24, 38,\n",
       "       24, 18, 20,  3, 47,  6, 39, 38, 20, 35, 35, 32, 14,  7, 49, 31, 14,\n",
       "       34, 28, 34, 22,  7, 31, 11, 34, 35, 28, 22, 13,  4, 47, 47, 37,  3,\n",
       "        4, 38, 45, 49, 39,  3, 11, 45,  4,  9, 46, 42, 16,  7, 28, 36, 11,\n",
       "       22, 35,  3, 38, 38, 42, 13, 37, 28,  4, 35, 31, 21, 16,  3,  3, 22,\n",
       "       17, 39,  2, 42,  8, 38, 41,  8, 26, 23, 49, 48, 35])"
      ]
     },
     "execution_count": 13,
     "metadata": {},
     "output_type": "execute_result"
    }
   ],
   "source": [
    "temp"
   ]
  },
  {
   "cell_type": "code",
   "execution_count": 14,
   "id": "db466ecc",
   "metadata": {},
   "outputs": [],
   "source": [
    "df[\"temp\"]=temp"
   ]
  },
  {
   "cell_type": "code",
   "execution_count": 15,
   "id": "0e8f59f4",
   "metadata": {},
   "outputs": [],
   "source": [
    "x=df.drop(columns=\"package\")\n",
    "y=df[\"package\"]"
   ]
  },
  {
   "cell_type": "code",
   "execution_count": 16,
   "id": "09da7815",
   "metadata": {},
   "outputs": [],
   "source": [
    "st=StandardScaler()\n",
    "x_scaled=st.fit_transform(x)"
   ]
  },
  {
   "cell_type": "code",
   "execution_count": 17,
   "id": "c2d448eb",
   "metadata": {},
   "outputs": [],
   "source": [
    "x_train,x_test,y_train,y_test=train_test_split(x_scaled,y,test_size=0.20,random_state=1)"
   ]
  },
  {
   "cell_type": "code",
   "execution_count": 18,
   "id": "1e1edf9c",
   "metadata": {},
   "outputs": [
    {
     "data": {
      "text/plain": [
       "LinearRegression()"
      ]
     },
     "execution_count": 18,
     "metadata": {},
     "output_type": "execute_result"
    }
   ],
   "source": [
    "lr=LinearRegression()\n",
    "lr.fit(x_train,y_train)"
   ]
  },
  {
   "cell_type": "code",
   "execution_count": 19,
   "id": "82b65e5b",
   "metadata": {},
   "outputs": [],
   "source": [
    "y_pred=lr.predict(x_test)"
   ]
  },
  {
   "cell_type": "code",
   "execution_count": 20,
   "id": "09bbb035",
   "metadata": {},
   "outputs": [
    {
     "data": {
      "text/plain": [
       "0.7237321231030718"
      ]
     },
     "execution_count": 20,
     "metadata": {},
     "output_type": "execute_result"
    }
   ],
   "source": [
    "r2=r2_score(y_test,y_pred)\n",
    "r2"
   ]
  },
  {
   "cell_type": "code",
   "execution_count": 21,
   "id": "9cd36bce",
   "metadata": {},
   "outputs": [
    {
     "data": {
      "text/plain": [
       "0.7087987243518865"
      ]
     },
     "execution_count": 21,
     "metadata": {},
     "output_type": "execute_result"
    }
   ],
   "source": [
    "1-((1-r2)*(40-1)/(40-2-1))  ##adjusted r2 score, for 2 feature \n",
    "## Formula for adjusted r2_score: 1-((1-r2)*(n-1)/(n-p-1), here p=2 bcz of insignificant feature"
   ]
  },
  {
   "cell_type": "markdown",
   "id": "a3cf89bf",
   "metadata": {},
   "source": [
    "- adjusted r2 score decreases and r2 score increases little or almost constant, after adding insignificant features only."
   ]
  },
  {
   "cell_type": "code",
   "execution_count": null,
   "id": "83fc1b92",
   "metadata": {},
   "outputs": [],
   "source": []
  }
 ],
 "metadata": {
  "kernelspec": {
   "display_name": "Python 3 (ipykernel)",
   "language": "python",
   "name": "python3"
  },
  "language_info": {
   "codemirror_mode": {
    "name": "ipython",
    "version": 3
   },
   "file_extension": ".py",
   "mimetype": "text/x-python",
   "name": "python",
   "nbconvert_exporter": "python",
   "pygments_lexer": "ipython3",
   "version": "3.9.12"
  }
 },
 "nbformat": 4,
 "nbformat_minor": 5
}
